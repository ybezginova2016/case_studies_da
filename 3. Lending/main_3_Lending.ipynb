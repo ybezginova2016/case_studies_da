{
 "cells": [
  {
   "cell_type": "markdown",
   "source": [
    "# Case 3. Новый дизайн сайта\n",
    "\n",
    "Отдел маркетинга разработал новый дизайн посадочной страницы клиента (lending). Пользователи сайта оценили новый дизайн. Результаты итоговой оценки зафиксированы в количественной переменной Общая оценка. Средняя оценка старого дизайна по результатам прошлого исследования составляет 30 баллов.\n",
    "\n",
    "Значимо ли улучшился дизайн посадочной страницы сайта, и есть ли влияние возраста на оценку нового дизайна?\n",
    "Необходимо ответить на вопрос, используя статистические методы, а также дать рекомендации отделу маркетинга по результатам проведенного анализа.\n"
   ],
   "metadata": {
    "collapsed": false
   }
  },
  {
   "cell_type": "code",
   "execution_count": 1,
   "outputs": [],
   "source": [
    "import pandas as pd"
   ],
   "metadata": {
    "collapsed": false
   }
  },
  {
   "cell_type": "code",
   "execution_count": 3,
   "outputs": [
    {
     "data": {
      "text/plain": "  Возрастная группа  Общая оценка\n0       65 и страше     38.454803\n1             55-64     17.669677\n2       65 и страше     31.704307\n3       65 и страше     25.924460\n4             До 25     30.450007\n5             До 25     35.609909\n6       65 и страше     29.677695\n7             25-34     38.167369\n8       65 и страше     23.509700\n9             45-54     26.051029",
      "text/html": "<div>\n<style scoped>\n    .dataframe tbody tr th:only-of-type {\n        vertical-align: middle;\n    }\n\n    .dataframe tbody tr th {\n        vertical-align: top;\n    }\n\n    .dataframe thead th {\n        text-align: right;\n    }\n</style>\n<table border=\"1\" class=\"dataframe\">\n  <thead>\n    <tr style=\"text-align: right;\">\n      <th></th>\n      <th>Возрастная группа</th>\n      <th>Общая оценка</th>\n    </tr>\n  </thead>\n  <tbody>\n    <tr>\n      <th>0</th>\n      <td>65 и страше</td>\n      <td>38.454803</td>\n    </tr>\n    <tr>\n      <th>1</th>\n      <td>55-64</td>\n      <td>17.669677</td>\n    </tr>\n    <tr>\n      <th>2</th>\n      <td>65 и страше</td>\n      <td>31.704307</td>\n    </tr>\n    <tr>\n      <th>3</th>\n      <td>65 и страше</td>\n      <td>25.924460</td>\n    </tr>\n    <tr>\n      <th>4</th>\n      <td>До 25</td>\n      <td>30.450007</td>\n    </tr>\n    <tr>\n      <th>5</th>\n      <td>До 25</td>\n      <td>35.609909</td>\n    </tr>\n    <tr>\n      <th>6</th>\n      <td>65 и страше</td>\n      <td>29.677695</td>\n    </tr>\n    <tr>\n      <th>7</th>\n      <td>25-34</td>\n      <td>38.167369</td>\n    </tr>\n    <tr>\n      <th>8</th>\n      <td>65 и страше</td>\n      <td>23.509700</td>\n    </tr>\n    <tr>\n      <th>9</th>\n      <td>45-54</td>\n      <td>26.051029</td>\n    </tr>\n  </tbody>\n</table>\n</div>"
     },
     "execution_count": 3,
     "metadata": {},
     "output_type": "execute_result"
    }
   ],
   "source": [
    "d = pd.read_excel(\"C:\\\\Users\\\\HOME\\\\PycharmProjects\\\\case_studies_da\\\\3. Lending\\\\data_lending.xlsx\")\n",
    "d.head(10)"
   ],
   "metadata": {
    "collapsed": false
   }
  },
  {
   "cell_type": "code",
   "execution_count": null,
   "outputs": [],
   "source": [
    "d."
   ],
   "metadata": {
    "collapsed": false
   }
  }
 ],
 "metadata": {
  "kernelspec": {
   "display_name": "Python 3",
   "language": "python",
   "name": "python3"
  },
  "language_info": {
   "codemirror_mode": {
    "name": "ipython",
    "version": 2
   },
   "file_extension": ".py",
   "mimetype": "text/x-python",
   "name": "python",
   "nbconvert_exporter": "python",
   "pygments_lexer": "ipython2",
   "version": "2.7.6"
  }
 },
 "nbformat": 4,
 "nbformat_minor": 0
}
