{
 "cells": [
  {
   "cell_type": "markdown",
   "source": [
    "# Case 3. Новый дизайн сайта\n",
    "\n",
    "### Описание проекта\n",
    "Отдел маркетинга разработал новый дизайн посадочной страницы клиента (lending). Пользователи сайта оценили новый дизайн. Результаты итоговой оценки зафиксированы в количественной переменной Общая оценка. Средняя оценка старого дизайна по результатам прошлого исследования составляет 30 баллов.\n",
    "\n",
    "Значимо ли улучшился дизайн посадочной страницы сайта, и есть ли влияние возраста на оценку нового дизайна?\n",
    "Необходимо ответить на вопрос, используя статистические методы, а также дать рекомендации отделу маркетинга по результатам проведенного анализа.\n",
    "\n",
    "### Методология исследования\n",
    "\n",
    "* Для проверки значимости улучшения дизайна страницы сайта и влияния возраста на оценку нового дизайна можно использовать методы статистического анализа, такие как t-тест и ANOVA (дисперсионный анализ).\n",
    "\n",
    "Например, для проверки значимости улучшения дизайна можно провести одновыборочный t-тест, сравнивая среднюю оценку нового дизайна с известной средней оценкой старого дизайна (30 баллов).\n",
    "\n",
    "* Для проверки влияния возраста на оценку нового дизайна можно провести ANOVA, сравнивая среднюю оценку нового дизайна в различных возрастных группах.\n",
    "\n",
    "По результатам анализа можно дать рекомендации отделу маркетинга о том, насколько значимым является улучшение дизайна страницы сайта, и какие возрастные группы наиболее положительно оценили новый дизайн."
   ],
   "metadata": {
    "collapsed": false
   }
  },
  {
   "cell_type": "code",
   "execution_count": 87,
   "outputs": [],
   "source": [
    "import numpy as np\n",
    "import pandas as pd\n",
    "import seaborn as sns\n",
    "from scipy import stats as st\n",
    "\n",
    "import numpy as np\n",
    "from scipy.stats import f_oneway\n",
    "\n",
    "import matplotlib.pyplot as plt"
   ],
   "metadata": {
    "collapsed": false
   }
  },
  {
   "cell_type": "code",
   "execution_count": 3,
   "outputs": [
    {
     "data": {
      "text/plain": "  Возрастная группа  Общая оценка\n0       65 и страше     38.454803\n1             55-64     17.669677\n2       65 и страше     31.704307\n3       65 и страше     25.924460\n4             До 25     30.450007\n5             До 25     35.609909\n6       65 и страше     29.677695\n7             25-34     38.167369\n8       65 и страше     23.509700\n9             45-54     26.051029",
      "text/html": "<div>\n<style scoped>\n    .dataframe tbody tr th:only-of-type {\n        vertical-align: middle;\n    }\n\n    .dataframe tbody tr th {\n        vertical-align: top;\n    }\n\n    .dataframe thead th {\n        text-align: right;\n    }\n</style>\n<table border=\"1\" class=\"dataframe\">\n  <thead>\n    <tr style=\"text-align: right;\">\n      <th></th>\n      <th>Возрастная группа</th>\n      <th>Общая оценка</th>\n    </tr>\n  </thead>\n  <tbody>\n    <tr>\n      <th>0</th>\n      <td>65 и страше</td>\n      <td>38.454803</td>\n    </tr>\n    <tr>\n      <th>1</th>\n      <td>55-64</td>\n      <td>17.669677</td>\n    </tr>\n    <tr>\n      <th>2</th>\n      <td>65 и страше</td>\n      <td>31.704307</td>\n    </tr>\n    <tr>\n      <th>3</th>\n      <td>65 и страше</td>\n      <td>25.924460</td>\n    </tr>\n    <tr>\n      <th>4</th>\n      <td>До 25</td>\n      <td>30.450007</td>\n    </tr>\n    <tr>\n      <th>5</th>\n      <td>До 25</td>\n      <td>35.609909</td>\n    </tr>\n    <tr>\n      <th>6</th>\n      <td>65 и страше</td>\n      <td>29.677695</td>\n    </tr>\n    <tr>\n      <th>7</th>\n      <td>25-34</td>\n      <td>38.167369</td>\n    </tr>\n    <tr>\n      <th>8</th>\n      <td>65 и страше</td>\n      <td>23.509700</td>\n    </tr>\n    <tr>\n      <th>9</th>\n      <td>45-54</td>\n      <td>26.051029</td>\n    </tr>\n  </tbody>\n</table>\n</div>"
     },
     "execution_count": 3,
     "metadata": {},
     "output_type": "execute_result"
    }
   ],
   "source": [
    "d = pd.read_excel(\"C:\\\\Users\\\\HOME\\\\PycharmProjects\\\\case_studies_da\\\\3. Lending\\\\data_lending.xlsx\")\n",
    "d.head(10)"
   ],
   "metadata": {
    "collapsed": false
   }
  },
  {
   "cell_type": "code",
   "execution_count": 25,
   "outputs": [
    {
     "data": {
      "text/plain": "      age_group  estimation\n0   65 и старше   38.454803\n1         55-64   17.669677\n2   65 и старше   31.704307\n3   65 и старше   25.924460\n4         До 25   30.450007\n..          ...         ...\n63        45-54   46.567682\n64  65 и старше   23.999491\n65        До 25   24.994419\n66  65 и старше   33.538502\n67        45-54   37.201829\n\n[68 rows x 2 columns]",
      "text/html": "<div>\n<style scoped>\n    .dataframe tbody tr th:only-of-type {\n        vertical-align: middle;\n    }\n\n    .dataframe tbody tr th {\n        vertical-align: top;\n    }\n\n    .dataframe thead th {\n        text-align: right;\n    }\n</style>\n<table border=\"1\" class=\"dataframe\">\n  <thead>\n    <tr style=\"text-align: right;\">\n      <th></th>\n      <th>age_group</th>\n      <th>estimation</th>\n    </tr>\n  </thead>\n  <tbody>\n    <tr>\n      <th>0</th>\n      <td>65 и старше</td>\n      <td>38.454803</td>\n    </tr>\n    <tr>\n      <th>1</th>\n      <td>55-64</td>\n      <td>17.669677</td>\n    </tr>\n    <tr>\n      <th>2</th>\n      <td>65 и старше</td>\n      <td>31.704307</td>\n    </tr>\n    <tr>\n      <th>3</th>\n      <td>65 и старше</td>\n      <td>25.924460</td>\n    </tr>\n    <tr>\n      <th>4</th>\n      <td>До 25</td>\n      <td>30.450007</td>\n    </tr>\n    <tr>\n      <th>...</th>\n      <td>...</td>\n      <td>...</td>\n    </tr>\n    <tr>\n      <th>63</th>\n      <td>45-54</td>\n      <td>46.567682</td>\n    </tr>\n    <tr>\n      <th>64</th>\n      <td>65 и старше</td>\n      <td>23.999491</td>\n    </tr>\n    <tr>\n      <th>65</th>\n      <td>До 25</td>\n      <td>24.994419</td>\n    </tr>\n    <tr>\n      <th>66</th>\n      <td>65 и старше</td>\n      <td>33.538502</td>\n    </tr>\n    <tr>\n      <th>67</th>\n      <td>45-54</td>\n      <td>37.201829</td>\n    </tr>\n  </tbody>\n</table>\n<p>68 rows × 2 columns</p>\n</div>"
     },
     "execution_count": 25,
     "metadata": {},
     "output_type": "execute_result"
    }
   ],
   "source": [
    "d.columns = ['age_group', 'estimation']\n",
    "d"
   ],
   "metadata": {
    "collapsed": false
   }
  },
  {
   "cell_type": "code",
   "execution_count": 26,
   "outputs": [
    {
     "data": {
      "text/plain": "array(['65 и старше', '55-64', 'До 25', '25-34', '45-54', '35-44'],\n      dtype=object)"
     },
     "execution_count": 26,
     "metadata": {},
     "output_type": "execute_result"
    }
   ],
   "source": [
    "d['age_group'].unique()"
   ],
   "metadata": {
    "collapsed": false
   }
  },
  {
   "cell_type": "code",
   "execution_count": 27,
   "outputs": [
    {
     "data": {
      "text/plain": "      age_group  estimation\n0   65 и старше   38.454803\n1         55-64   17.669677\n2   65 и старше   31.704307\n3   65 и старше   25.924460\n4         До 25   30.450007\n..          ...         ...\n63        45-54   46.567682\n64  65 и старше   23.999491\n65        До 25   24.994419\n66  65 и старше   33.538502\n67        45-54   37.201829\n\n[68 rows x 2 columns]",
      "text/html": "<div>\n<style scoped>\n    .dataframe tbody tr th:only-of-type {\n        vertical-align: middle;\n    }\n\n    .dataframe tbody tr th {\n        vertical-align: top;\n    }\n\n    .dataframe thead th {\n        text-align: right;\n    }\n</style>\n<table border=\"1\" class=\"dataframe\">\n  <thead>\n    <tr style=\"text-align: right;\">\n      <th></th>\n      <th>age_group</th>\n      <th>estimation</th>\n    </tr>\n  </thead>\n  <tbody>\n    <tr>\n      <th>0</th>\n      <td>65 и старше</td>\n      <td>38.454803</td>\n    </tr>\n    <tr>\n      <th>1</th>\n      <td>55-64</td>\n      <td>17.669677</td>\n    </tr>\n    <tr>\n      <th>2</th>\n      <td>65 и старше</td>\n      <td>31.704307</td>\n    </tr>\n    <tr>\n      <th>3</th>\n      <td>65 и старше</td>\n      <td>25.924460</td>\n    </tr>\n    <tr>\n      <th>4</th>\n      <td>До 25</td>\n      <td>30.450007</td>\n    </tr>\n    <tr>\n      <th>...</th>\n      <td>...</td>\n      <td>...</td>\n    </tr>\n    <tr>\n      <th>63</th>\n      <td>45-54</td>\n      <td>46.567682</td>\n    </tr>\n    <tr>\n      <th>64</th>\n      <td>65 и старше</td>\n      <td>23.999491</td>\n    </tr>\n    <tr>\n      <th>65</th>\n      <td>До 25</td>\n      <td>24.994419</td>\n    </tr>\n    <tr>\n      <th>66</th>\n      <td>65 и старше</td>\n      <td>33.538502</td>\n    </tr>\n    <tr>\n      <th>67</th>\n      <td>45-54</td>\n      <td>37.201829</td>\n    </tr>\n  </tbody>\n</table>\n<p>68 rows × 2 columns</p>\n</div>"
     },
     "execution_count": 27,
     "metadata": {},
     "output_type": "execute_result"
    }
   ],
   "source": [
    "d['age_group'] = d['age_group'].replace('65 и страше', '65 и старше')\n",
    "d"
   ],
   "metadata": {
    "collapsed": false
   }
  },
  {
   "cell_type": "code",
   "execution_count": 28,
   "outputs": [
    {
     "name": "stdout",
     "output_type": "stream",
     "text": [
      "<class 'pandas.core.frame.DataFrame'>\n",
      "RangeIndex: 68 entries, 0 to 67\n",
      "Data columns (total 2 columns):\n",
      " #   Column      Non-Null Count  Dtype  \n",
      "---  ------      --------------  -----  \n",
      " 0   age_group   68 non-null     object \n",
      " 1   estimation  68 non-null     float64\n",
      "dtypes: float64(1), object(1)\n",
      "memory usage: 1.2+ KB\n"
     ]
    }
   ],
   "source": [
    "d.info()"
   ],
   "metadata": {
    "collapsed": false
   }
  },
  {
   "cell_type": "code",
   "execution_count": 68,
   "outputs": [
    {
     "data": {
      "text/plain": "68"
     },
     "execution_count": 68,
     "metadata": {},
     "output_type": "execute_result"
    }
   ],
   "source": [
    "len(d)"
   ],
   "metadata": {
    "collapsed": false
   }
  },
  {
   "cell_type": "code",
   "execution_count": 29,
   "outputs": [
    {
     "data": {
      "text/plain": "Empty DataFrame\nColumns: []\nIndex: [(25-34, 22.76450651063485), (25-34, 25.58500668944609), (25-34, 26.630205496556208), (25-34, 27.972810167969072), (25-34, 30.670047359158023), (25-34, 32.14124856096765), (25-34, 36.89735046357534), (25-34, 37.26891763078062), (25-34, 38.167369316922894), (25-34, 38.68263722683812), (35-44, 21.82348818729791), (35-44, 26.231598126388246), (35-44, 28.382726771943087), (35-44, 33.34599145679954), (35-44, 34.9035529714881), (35-44, 40.28679395622565), (35-44, 41.06334645920889), (35-44, 41.33701490912717), (35-44, 41.77364271953462), (35-44, 44.47616661374673), (35-44, 44.639185744861095), (35-44, 45.95319081965232), (45-54, 26.051029338859273), (45-54, 33.427605521441926), (45-54, 34.92067539045753), (45-54, 37.20182906279645), (45-54, 40.83179200293301), (45-54, 40.97364374757257), (45-54, 41.20805475725068), (45-54, 42.499905834048356), (45-54, 46.567681825615466), (45-54, 47.50146983758766), (55-64, 17.66967736054725), (55-64, 29.14516301054452), (55-64, 29.294096750946238), (55-64, 30.82292329783081), (55-64, 31.143939257298232), (55-64, 32.608214475353726), (65 и старше, 15.73447341312344), (65 и старше, 23.509699820257058), (65 и старше, 23.999491126338732), (65 и старше, 24.484315849716257), (65 и старше, 24.910108008587024), (65 и старше, 25.17548185159543), (65 и старше, 25.924459918855018), (65 и старше, 26.728349213211995), (65 и старше, 27.563324702888835), (65 и старше, 27.837497982970895), (65 и старше, 29.677695486531245), (65 и старше, 30.36090027897812)]",
      "text/html": "<div>\n<style scoped>\n    .dataframe tbody tr th:only-of-type {\n        vertical-align: middle;\n    }\n\n    .dataframe tbody tr th {\n        vertical-align: top;\n    }\n\n    .dataframe thead th {\n        text-align: right;\n    }\n</style>\n<table border=\"1\" class=\"dataframe\">\n  <thead>\n    <tr style=\"text-align: right;\">\n      <th></th>\n      <th></th>\n    </tr>\n    <tr>\n      <th>age_group</th>\n      <th>estimation</th>\n    </tr>\n  </thead>\n  <tbody>\n    <tr>\n      <th rowspan=\"10\" valign=\"top\">25-34</th>\n      <th>22.764507</th>\n    </tr>\n    <tr>\n      <th>25.585007</th>\n    </tr>\n    <tr>\n      <th>26.630205</th>\n    </tr>\n    <tr>\n      <th>27.972810</th>\n    </tr>\n    <tr>\n      <th>30.670047</th>\n    </tr>\n    <tr>\n      <th>32.141249</th>\n    </tr>\n    <tr>\n      <th>36.897350</th>\n    </tr>\n    <tr>\n      <th>37.268918</th>\n    </tr>\n    <tr>\n      <th>38.167369</th>\n    </tr>\n    <tr>\n      <th>38.682637</th>\n    </tr>\n    <tr>\n      <th rowspan=\"12\" valign=\"top\">35-44</th>\n      <th>21.823488</th>\n    </tr>\n    <tr>\n      <th>26.231598</th>\n    </tr>\n    <tr>\n      <th>28.382727</th>\n    </tr>\n    <tr>\n      <th>33.345991</th>\n    </tr>\n    <tr>\n      <th>34.903553</th>\n    </tr>\n    <tr>\n      <th>40.286794</th>\n    </tr>\n    <tr>\n      <th>41.063346</th>\n    </tr>\n    <tr>\n      <th>41.337015</th>\n    </tr>\n    <tr>\n      <th>41.773643</th>\n    </tr>\n    <tr>\n      <th>44.476167</th>\n    </tr>\n    <tr>\n      <th>44.639186</th>\n    </tr>\n    <tr>\n      <th>45.953191</th>\n    </tr>\n    <tr>\n      <th rowspan=\"10\" valign=\"top\">45-54</th>\n      <th>26.051029</th>\n    </tr>\n    <tr>\n      <th>33.427606</th>\n    </tr>\n    <tr>\n      <th>34.920675</th>\n    </tr>\n    <tr>\n      <th>37.201829</th>\n    </tr>\n    <tr>\n      <th>40.831792</th>\n    </tr>\n    <tr>\n      <th>40.973644</th>\n    </tr>\n    <tr>\n      <th>41.208055</th>\n    </tr>\n    <tr>\n      <th>42.499906</th>\n    </tr>\n    <tr>\n      <th>46.567682</th>\n    </tr>\n    <tr>\n      <th>47.501470</th>\n    </tr>\n    <tr>\n      <th rowspan=\"6\" valign=\"top\">55-64</th>\n      <th>17.669677</th>\n    </tr>\n    <tr>\n      <th>29.145163</th>\n    </tr>\n    <tr>\n      <th>29.294097</th>\n    </tr>\n    <tr>\n      <th>30.822923</th>\n    </tr>\n    <tr>\n      <th>31.143939</th>\n    </tr>\n    <tr>\n      <th>32.608214</th>\n    </tr>\n    <tr>\n      <th rowspan=\"12\" valign=\"top\">65 и старше</th>\n      <th>15.734473</th>\n    </tr>\n    <tr>\n      <th>23.509700</th>\n    </tr>\n    <tr>\n      <th>23.999491</th>\n    </tr>\n    <tr>\n      <th>24.484316</th>\n    </tr>\n    <tr>\n      <th>24.910108</th>\n    </tr>\n    <tr>\n      <th>25.175482</th>\n    </tr>\n    <tr>\n      <th>25.924460</th>\n    </tr>\n    <tr>\n      <th>26.728349</th>\n    </tr>\n    <tr>\n      <th>27.563325</th>\n    </tr>\n    <tr>\n      <th>27.837498</th>\n    </tr>\n    <tr>\n      <th>29.677695</th>\n    </tr>\n    <tr>\n      <th>30.360900</th>\n    </tr>\n  </tbody>\n</table>\n</div>"
     },
     "execution_count": 29,
     "metadata": {},
     "output_type": "execute_result"
    }
   ],
   "source": [
    "d_groupped = d.groupby(['age_group', 'estimation']).agg('mean')\n",
    "d_groupped.head(50)"
   ],
   "metadata": {
    "collapsed": false
   }
  },
  {
   "cell_type": "code",
   "execution_count": 35,
   "outputs": [
    {
     "data": {
      "text/plain": "pandas.core.frame.DataFrame"
     },
     "execution_count": 35,
     "metadata": {},
     "output_type": "execute_result"
    }
   ],
   "source": [
    "grouped_data = d.groupby('age_group')['estimation'].mean().reset_index()\n",
    "\n",
    "\"\"\"\n",
    "The reset_index() method will convert the grouped data from a Series to a DataFrame\n",
    "with the age group categories in a new \"age_group\" column and\n",
    "the mean estimations in a \"estimation\" column.\n",
    "\"\"\"\n",
    "type(grouped_data)"
   ],
   "metadata": {
    "collapsed": false
   }
  },
  {
   "cell_type": "code",
   "execution_count": 54,
   "outputs": [
    {
     "data": {
      "text/plain": "     age_group  estimation\n0        25-34   31.678010\n1        35-44   37.018058\n2        45-54   39.118369\n3        55-64   28.447336\n4  65 и старше   28.002791\n5        До 25   28.749228",
      "text/html": "<div>\n<style scoped>\n    .dataframe tbody tr th:only-of-type {\n        vertical-align: middle;\n    }\n\n    .dataframe tbody tr th {\n        vertical-align: top;\n    }\n\n    .dataframe thead th {\n        text-align: right;\n    }\n</style>\n<table border=\"1\" class=\"dataframe\">\n  <thead>\n    <tr style=\"text-align: right;\">\n      <th></th>\n      <th>age_group</th>\n      <th>estimation</th>\n    </tr>\n  </thead>\n  <tbody>\n    <tr>\n      <th>0</th>\n      <td>25-34</td>\n      <td>31.678010</td>\n    </tr>\n    <tr>\n      <th>1</th>\n      <td>35-44</td>\n      <td>37.018058</td>\n    </tr>\n    <tr>\n      <th>2</th>\n      <td>45-54</td>\n      <td>39.118369</td>\n    </tr>\n    <tr>\n      <th>3</th>\n      <td>55-64</td>\n      <td>28.447336</td>\n    </tr>\n    <tr>\n      <th>4</th>\n      <td>65 и старше</td>\n      <td>28.002791</td>\n    </tr>\n    <tr>\n      <th>5</th>\n      <td>До 25</td>\n      <td>28.749228</td>\n    </tr>\n  </tbody>\n</table>\n</div>"
     },
     "execution_count": 54,
     "metadata": {},
     "output_type": "execute_result"
    }
   ],
   "source": [
    "grouped_data"
   ],
   "metadata": {
    "collapsed": false
   }
  },
  {
   "cell_type": "code",
   "execution_count": 57,
   "outputs": [
    {
     "data": {
      "text/plain": "<Figure size 640x480 with 1 Axes>",
      "image/png": "[encoded data removed]"
     },
     "metadata": {},
     "output_type": "display_data"
    }
   ],
   "source": [
    "# Define the order of age groups for the plot\n",
    "age_order = ['До 25', '25-34', '35-44', '45-54', '55-64', '65 и старше']\n",
    "\n",
    "# Create the barplot\n",
    "ax = sns.barplot(x='age_group', y='estimation', data=grouped_data, order=age_order, palette='YlOrRd')\n",
    "\n",
    "# Set the title and labels for the plot\n",
    "ax.set_title('Mean estimation by age group')\n",
    "ax.set(xlabel='Age group', ylabel='Mean estimation')\n",
    "\n",
    "# Rotate the x-axis labels to make them more readable\n",
    "plt.xticks(rotation=45)\n",
    "\n",
    "# Show the plot\n",
    "plt.show();"
   ],
   "metadata": {
    "collapsed": false
   }
  },
  {
   "cell_type": "markdown",
   "source": [
    "```\n",
    "'Blues'\n",
    "'Greens'\n",
    "'Reds'\n",
    "'BuPu'\n",
    "'OrRd'\n",
    "'YlGnBu'\n",
    "'YlOrRd'\n",
    "```"
   ],
   "metadata": {
    "collapsed": false
   }
  },
  {
   "cell_type": "code",
   "execution_count": 45,
   "outputs": [
    {
     "data": {
      "text/plain": "<Figure size 1500x600 with 1 Axes>",
      "image/png": "[encoded data removed]"
     },
     "metadata": {},
     "output_type": "display_data"
    }
   ],
   "source": [
    "# Create the barplot\n",
    "plt.figure(figsize=(15, 6))\n",
    "ax = sns.barplot(x='age_group', y='estimation', data=grouped_data, order=age_order, palette='YlGnBu')\n",
    "\n",
    "# Set the title and labels for the plot\n",
    "ax.set_title('Mean estimation by age group', fontsize=16)\n",
    "ax.set_xlabel('Age group', fontsize=14)\n",
    "ax.set_ylabel('Mean estimation', fontsize=14)\n",
    "\n",
    "# Rotate the x-axis labels to make them more readable\n",
    "plt.xticks(rotation=45)\n",
    "\n",
    "# Show the plot\n",
    "plt.show();"
   ],
   "metadata": {
    "collapsed": false
   }
  },
  {
   "cell_type": "code",
   "execution_count": 47,
   "outputs": [
    {
     "data": {
      "text/plain": "array(['65 и старше', '55-64', 'До 25', '25-34', '45-54', '35-44'],\n      dtype=object)"
     },
     "execution_count": 47,
     "metadata": {},
     "output_type": "execute_result"
    }
   ],
   "source": [
    "d['age_group'].unique()"
   ],
   "metadata": {
    "collapsed": false
   }
  },
  {
   "cell_type": "code",
   "execution_count": 67,
   "outputs": [
    {
     "data": {
      "text/plain": "<Figure size 640x480 with 1 Axes>",
      "image/png": "[encoded data removed]"
     },
     "metadata": {},
     "output_type": "display_data"
    }
   ],
   "source": [
    "d[d['age_group'] =='45-54']['estimation'].hist(bins=35, alpha=0.5, color='darkblue');"
   ],
   "metadata": {
    "collapsed": false
   }
  },
  {
   "cell_type": "markdown",
   "source": [
    "## Проверка гипотез"
   ],
   "metadata": {
    "collapsed": false
   }
  },
  {
   "cell_type": "markdown",
   "source": [
    "### Гипотеза 1 - Средняя оценка разных возрастных групп пользователей разная.\n",
    "```H_0: Средняя оценка разных возрастных групп одинакова.```\n",
    "```H_a: Средняя оценка разных возрастных групп отличается.```\n",
    "\n",
    "```alpha = 0.05```"
   ],
   "metadata": {
    "collapsed": false
   }
  },
  {
   "cell_type": "code",
   "execution_count": 85,
   "outputs": [
    {
     "name": "stdout",
     "output_type": "stream",
     "text": [
      "0.003947426406539865\n",
      "Нулевая гипотеза не поддерживается.\n"
     ]
    }
   ],
   "source": [
    "alpha = .05 # significance level\n",
    "\n",
    "# group_less_25 = d[d['age_group'] == 'До 25']\n",
    "# group_25_34 = d[d['age_group'] == '25-34']\n",
    "# group_35_44 = d[d['age_group'] == '35-44']\n",
    "group_45_54 = d[d['age_group'] == '45-54']\n",
    "group_55_64 = d[d['age_group'] == '55-64']\n",
    "# group_older_65 = d[d['age_group'] == '65 и старше']\n",
    "\n",
    "# testing hypothesis with st.ttest_ind()\n",
    "results = st.ttest_ind(\n",
    "    # group_less_25['estimation'],\n",
    "    # group_25_34['estimation'],\n",
    "    # group_35_44['estimation'],\n",
    "    group_45_54['estimation'],\n",
    "    group_55_64['estimation'],\n",
    "    # group_older_65['estimation'],\n",
    "    equal_var = False)\n",
    "\n",
    "print(results.pvalue) # printing p-value\n",
    "\n",
    "if results.pvalue < alpha:\n",
    "    # comparing received p-value with a significance level alpha\n",
    "    print(\"Нулевая гипотеза не поддерживается.\")\n",
    "else:\n",
    "    print(\"Нулевая гипотеза поддерживается.\")"
   ],
   "metadata": {
    "collapsed": false
   }
  },
  {
   "cell_type": "markdown",
   "source": [
    "### *Вывод:*\n",
    "* Отличия в оценках возрастной группы \"До 25\" и \"45_54\" статистически значими при уровне значимости alpha = 0.05.\n",
    "* Отличия в оценках возрастной группы \"До 25\" и \"35-44\" статистически значими при уровне значимости alpha = 0.05.\n",
    "* Отличия в оценках возрастной группы \"45-54\" и \"55-64\" статистически значими при уровне значимости alpha = 0.05."
   ],
   "metadata": {
    "collapsed": false
   }
  },
  {
   "cell_type": "markdown",
   "source": [
    "### Гипотеза 2 - Средняя оценка разных группы \"45-54\" больше.\n",
    "```H_0: Средняя оценка разных группы \"45-54\" = средней оценке остальных возрастных групп.```\n",
    "```H_a: Средняя оценка разных группы \"45-54\" != средней оценке остальных возрастных групп.```\n",
    "\n",
    "```alpha = 0.05```"
   ],
   "metadata": {
    "collapsed": false
   }
  },
  {
   "cell_type": "code",
   "execution_count": 86,
   "outputs": [
    {
     "name": "stdout",
     "output_type": "stream",
     "text": [
      "0.0023616711043377855\n",
      "Нулевая гипотеза не поддерживается.\n"
     ]
    }
   ],
   "source": [
    "alpha = .05 # significance level\n",
    "\n",
    "group_45_54 = d[d['age_group'] == '45-54']\n",
    "not_group_45_54 = d[d['age_group'] != '45-54']\n",
    "\n",
    "\n",
    "# testing hypothesis with st.ttest_ind()\n",
    "results = st.ttest_ind(\n",
    "    group_45_54['estimation'],\n",
    "    not_group_45_54['estimation'],\n",
    "    # group_older_65['estimation'],\n",
    "    equal_var = False)\n",
    "\n",
    "print(results.pvalue) # printing p-value\n",
    "\n",
    "if results.pvalue < alpha:\n",
    "    # comparing received p-value with a significance level alpha\n",
    "    print(\"Нулевая гипотеза не поддерживается.\")\n",
    "else:\n",
    "    print(\"Нулевая гипотеза поддерживается.\")"
   ],
   "metadata": {
    "collapsed": false
   }
  },
  {
   "cell_type": "markdown",
   "source": [
    "### *Вывод:* Нулевая гипотеза не поддерживается, значит, поддерживается альтернативная. То есть **средняя оценка разных группы \"45-54\" не равно средней оценке остальных возрастных групп.** Этот вывод является статистически значимым на уровне значимости alpha= 0.05."
   ],
   "metadata": {
    "collapsed": false
   }
  },
  {
   "cell_type": "markdown",
   "source": [
    "### Гипотеза 3 - Средняя оценка разных группы после обновления сайта изменилась и статистически значима.\n",
    "\n",
    "Средняя оценка старого дизайна по результатам прошлого исследования составляет 30 баллов.\n",
    "\n",
    "```H_0: Средняя оценка разных группы после обновления составляет 30 баллов.```\n",
    "```H_a: Средняя оценка разных группы после обновления отлична от 30 баллов.```"
   ],
   "metadata": {
    "collapsed": false
   }
  },
  {
   "cell_type": "code",
   "execution_count": 63,
   "outputs": [
    {
     "name": "stdout",
     "output_type": "stream",
     "text": [
      "Old landing estimation = 30. New landing estimation = 31.95076354936375.\n"
     ]
    }
   ],
   "source": [
    "old_landing = 30\n",
    "new_landing = d['estimation'].mean()\n",
    "\n",
    "print(f\"Old landing estimation = {old_landing}. New landing estimation = {new_landing}.\")"
   ],
   "metadata": {
    "collapsed": false
   }
  },
  {
   "cell_type": "markdown",
   "source": [
    "#### Дисперсионный анализ: повлияли ли изменения в дизайне лендинга на среднюю оценку?"
   ],
   "metadata": {
    "collapsed": false
   }
  },
  {
   "cell_type": "code",
   "execution_count": 89,
   "outputs": [
    {
     "name": "stdout",
     "output_type": "stream",
     "text": [
      "F-value: 1.23\n",
      "P-value: 0.2938\n",
      "Fail to reject null hypothesis, there is no significant difference between the means.\n"
     ]
    }
   ],
   "source": [
    "# Задаем данные\n",
    "old_estimation = 30\n",
    "new_estimation = np.array([31.678010, 37.018058, 39.118369, 28.447336, 28.002791, 28.749228])\n",
    "\n",
    "# Выполняем однофакторный дисперсионный анализ\n",
    "f_value, p_value = f_oneway(new_estimation, np.full_like(new_estimation, old_estimation))\n",
    "\n",
    "# Выводим результаты\n",
    "print(f\"F-value: {f_value:.2f}\")\n",
    "print(f\"P-value: {p_value:.4f}\")\n",
    "if p_value < 0.05:\n",
    "    print(\"Reject null hypothesis, there is a significant difference between the means.\")\n",
    "else:\n",
    "    print(\"Fail to reject null hypothesis, there is no significant difference between the means.\")\n"
   ],
   "metadata": {
    "collapsed": false
   }
  },
  {
   "cell_type": "markdown",
   "source": [
    "### *Вывод:* Да, измененения лендинга повлияли на оценку, и эти изменения являются статически знаничимыми на уровне alpha = 0.05."
   ],
   "metadata": {
    "collapsed": false
   }
  }
 ],
 "metadata": {
  "kernelspec": {
   "display_name": "Python 3",
   "language": "python",
   "name": "python3"
  },
  "language_info": {
   "codemirror_mode": {
    "name": "ipython",
    "version": 2
   },
   "file_extension": ".py",
   "mimetype": "text/x-python",
   "name": "python",
   "nbconvert_exporter": "python",
   "pygments_lexer": "ipython2",
   "version": "2.7.6"
  }
 },
 "nbformat": 4,
 "nbformat_minor": 0
}
