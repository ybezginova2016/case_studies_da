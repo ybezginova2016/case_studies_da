{
 "cells": [
  {
   "cell_type": "markdown",
   "source": [
    "# Case 2. Тарифы телекоммуникационного провайдера\n",
    "\n",
    "Абонент хочет оптимизировать свои затраты на связь, сменив текущий тарифный план. Три оператора сотовой связи прислали свои предложения: описание всех тарифных планов агрегированы в единый документ. Имеется также выгрузка исходящих вызовов абонента за последние 6 месяцев.\n",
    "\n",
    "Необходимо исследовать характер исходящих звонков абонента и предложить оптимальный тариф, обосновав свои рекомендации аналитическими расчетами.\n",
    "\n",
    "Примечание: начать исследование рекомендуется с описания начального набора данных.\n"
   ],
   "metadata": {
    "collapsed": false
   }
  },
  {
   "cell_type": "code",
   "execution_count": 1,
   "outputs": [],
   "source": [
    "import pandas as pd"
   ],
   "metadata": {
    "collapsed": false
   }
  },
  {
   "cell_type": "code",
   "execution_count": 5,
   "outputs": [
    {
     "data": {
      "text/plain": "           Дата звонка Длительность разговора  \\\n0  15.12.2010 10:50:54               00:01:49   \n1  15.12.2010 11:50:42               00:00:57   \n2  30.11.2010 16:39:34               00:00:55   \n3  30.11.2010 16:39:34               00:00:55   \n4  01.12.2010 09:49:09               00:06:47   \n5  01.12.2010 14:01:02               00:01:14   \n6  02.12.2010 11:28:55               00:00:38   \n7  02.12.2010 11:40:47               00:00:31   \n8  02.12.2010 11:51:17               00:00:11   \n9  02.12.2010 12:00:16               00:00:45   \n\n  Оператор связи вызываемого абонента  \n0                              билайн  \n1                              билайн  \n2                              билайн  \n3                              билайн  \n4                              билайн  \n5                              билайн  \n6                              билайн  \n7                              билайн  \n8                              билайн  \n9                              билайн  ",
      "text/html": "<div>\n<style scoped>\n    .dataframe tbody tr th:only-of-type {\n        vertical-align: middle;\n    }\n\n    .dataframe tbody tr th {\n        vertical-align: top;\n    }\n\n    .dataframe thead th {\n        text-align: right;\n    }\n</style>\n<table border=\"1\" class=\"dataframe\">\n  <thead>\n    <tr style=\"text-align: right;\">\n      <th></th>\n      <th>Дата звонка</th>\n      <th>Длительность разговора</th>\n      <th>Оператор связи вызываемого абонента</th>\n    </tr>\n  </thead>\n  <tbody>\n    <tr>\n      <th>0</th>\n      <td>15.12.2010 10:50:54</td>\n      <td>00:01:49</td>\n      <td>билайн</td>\n    </tr>\n    <tr>\n      <th>1</th>\n      <td>15.12.2010 11:50:42</td>\n      <td>00:00:57</td>\n      <td>билайн</td>\n    </tr>\n    <tr>\n      <th>2</th>\n      <td>30.11.2010 16:39:34</td>\n      <td>00:00:55</td>\n      <td>билайн</td>\n    </tr>\n    <tr>\n      <th>3</th>\n      <td>30.11.2010 16:39:34</td>\n      <td>00:00:55</td>\n      <td>билайн</td>\n    </tr>\n    <tr>\n      <th>4</th>\n      <td>01.12.2010 09:49:09</td>\n      <td>00:06:47</td>\n      <td>билайн</td>\n    </tr>\n    <tr>\n      <th>5</th>\n      <td>01.12.2010 14:01:02</td>\n      <td>00:01:14</td>\n      <td>билайн</td>\n    </tr>\n    <tr>\n      <th>6</th>\n      <td>02.12.2010 11:28:55</td>\n      <td>00:00:38</td>\n      <td>билайн</td>\n    </tr>\n    <tr>\n      <th>7</th>\n      <td>02.12.2010 11:40:47</td>\n      <td>00:00:31</td>\n      <td>билайн</td>\n    </tr>\n    <tr>\n      <th>8</th>\n      <td>02.12.2010 11:51:17</td>\n      <td>00:00:11</td>\n      <td>билайн</td>\n    </tr>\n    <tr>\n      <th>9</th>\n      <td>02.12.2010 12:00:16</td>\n      <td>00:00:45</td>\n      <td>билайн</td>\n    </tr>\n  </tbody>\n</table>\n</div>"
     },
     "execution_count": 5,
     "metadata": {},
     "output_type": "execute_result"
    }
   ],
   "source": [
    "d = pd.read_excel(\"C:\\\\Users\\\\HOME\\\\PycharmProjects\\\\case_studies_da\\\\2. Telecom\\\\telecom_data.xlsx\", engine='openpyxl')\n",
    "d.head(10)"
   ],
   "metadata": {
    "collapsed": false
   }
  },
  {
   "cell_type": "code",
   "execution_count": null,
   "outputs": [],
   "source": [],
   "metadata": {
    "collapsed": false
   }
  }
 ],
 "metadata": {
  "kernelspec": {
   "display_name": "Python 3",
   "language": "python",
   "name": "python3"
  },
  "language_info": {
   "codemirror_mode": {
    "name": "ipython",
    "version": 2
   },
   "file_extension": ".py",
   "mimetype": "text/x-python",
   "name": "python",
   "nbconvert_exporter": "python",
   "pygments_lexer": "ipython2",
   "version": "2.7.6"
  }
 },
 "nbformat": 4,
 "nbformat_minor": 0
}
