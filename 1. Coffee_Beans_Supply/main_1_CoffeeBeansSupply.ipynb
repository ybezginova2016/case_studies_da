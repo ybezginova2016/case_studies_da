{
 "cells": [
  {
   "cell_type": "markdown",
   "source": [
    "# Case 1: Оптовые поставки зернового кофе\n",
    "\n",
    "Компания, занимающаяся оптовыми поставками зернового кофе, запросила отчёт о продажах по месяцам. Интересуют только те продажи, у которых не было доставки:\n",
    "* их количество в месяц (Count),\n",
    "* процент плохих отзывов (Weight),\n",
    "* доходность таких транзакций – в разрезе на продажи с вводом клиентом промокода и без (Promo).\n",
    "\n",
    "Имеется выгрузка всех продаж с момента основания компании.\n",
    "\n",
    "Необходимо написать код на Python, который прочтет выгрузку, проведет необходимые расчеты и запишет таблицу-результат в эксель.\n",
    "\n",
    "*Поля итоговой таблицы:*\n",
    "**«Месяц» – «Введен промокод» – «Кол-во транзакций» – «Плохих отзывов, %» - «Доходность, %».**\n",
    "\n",
    "Примечание:\n",
    "Доходность можно вычислить по формуле:\n",
    "\n",
    "**Доходность, % = (Оплаченная по транзакциям сумма - Закупочная цена поставленных зерен) / Закупочная цена поставленных зерен * 100**,\n",
    "где *Закупочная цена поставленных зерен = сумма Cost всех с нужными характеристиками*,\n",
    "*Оплаченная по транзакциям сумма= сумма Paid транзакций с нужными характеристиками*.\n"
   ],
   "metadata": {
    "collapsed": false
   }
  },
  {
   "cell_type": "code",
   "execution_count": 314,
   "outputs": [],
   "source": [
    "import os\n",
    "\n",
    "import pandas as pd"
   ],
   "metadata": {
    "collapsed": false
   }
  },
  {
   "cell_type": "markdown",
   "source": [
    "## 1) Загрузка данных"
   ],
   "metadata": {
    "collapsed": false
   }
  },
  {
   "cell_type": "code",
   "execution_count": 315,
   "outputs": [],
   "source": [
    "directory = r\"C:\\\\Users\\\\HOME\\\\PycharmProjects\\\\case_studies_da\\\\1. Coffee_Beans_Supply\""
   ],
   "metadata": {
    "collapsed": false
   }
  },
  {
   "cell_type": "code",
   "execution_count": 316,
   "outputs": [],
   "source": [
    "data_path = \"C:\\\\Users\\\\HOME\\\\PycharmProjects\\\\case_studies_da\\\\1. Coffee_Beans_Supply\\\\data_coffee_beans_supply.csv\""
   ],
   "metadata": {
    "collapsed": false
   }
  },
  {
   "cell_type": "code",
   "execution_count": 317,
   "outputs": [
    {
     "name": "stdout",
     "output_type": "stream",
     "text": [
      "      TransactionID\\tDate\\tCount\\tCost\\tÄîñòàâêà\\tÏëîõîé îòçûâ\\tPaid\\tWeight\\tPromo\\tAutoIssue  \\\n",
      "0           1\\t2020-Aug-21 8:53:03\\t67\\t6325\\t0\\t0\\t2605                                         \n",
      "1           2\\t2019-Sep-3 11:53:03\\t90\\t8307\\t1\\t1\\t8553                                         \n",
      "2           3\\t2019-Oct-15 4:31:02\\t59\\t9819\\t0\\t1\\t9995                                         \n",
      "3          4\\t2019-Aug-26 4:14:00\\t14\\t5351\\t1\\t1\\t12603                                         \n",
      "4           5\\t2020-Aug-27 1:21:03\\t14\\t7779\\t1\\t0\\t5625                                         \n",
      "...                                                  ...                                         \n",
      "14360   14361\\t2019-Oct-30 4:42:01\\t70\\t4716\\t1\\t1\\t3201                                         \n",
      "14361  14362\\t2019-Oct-8 23:23:03\\t14\\t4547\\t1\\t0\\t10810                                         \n",
      "14362  14363\\t2020-Aug-17 18:25:00\\t8\\t9940\\t1\\t1\\t10597                                         \n",
      "14363   14364\\t2020-Aug-27 9:38:01\\t92\\t7180\\t0\\t0\\t7200                                         \n",
      "14364  14365\\t2020-Aug-26 13:27:01\\t23\\t9680\\t1\\t0\\t1991                                         \n",
      "\n",
      "          Unnamed: 1  \n",
      "0      0\\t5481\\t0\\t0  \n",
      "1      0\\t5956\\t1\\t1  \n",
      "2      0\\t5170\\t1\\t0  \n",
      "3      0\\t8826\\t0\\t0  \n",
      "4      0\\t5357\\t0\\t0  \n",
      "...              ...  \n",
      "14360  0\\t7509\\t1\\t1  \n",
      "14361  0\\t8511\\t1\\t0  \n",
      "14362  0\\t9649\\t0\\t1  \n",
      "14363  0\\t6638\\t0\\t0  \n",
      "14364  0\\t6589\\t1\\t1  \n",
      "\n",
      "[14365 rows x 2 columns]\n"
     ]
    }
   ],
   "source": [
    "d = pd.read_csv(\"C:\\\\Users\\\\HOME\\\\PycharmProjects\\\\case_studies_da\\\\1. Coffee_Beans_Supply\\\\data_coffee_beans_supply.csv\", encoding=\"iso-8859-1\")\n",
    "print(d)"
   ],
   "metadata": {
    "collapsed": false
   }
  },
  {
   "cell_type": "code",
   "execution_count": 318,
   "outputs": [
    {
     "data": {
      "text/plain": "  TransactionID                  Date Count  Cost Äîñòàâêà Ïëîõîé îòçûâ  \\\n0            \"1   2020-Aug-21 8:53:03    67  6325        0            0   \n1            \"2   2019-Sep-3 11:53:03    90  8307        1            1   \n2            \"3   2019-Oct-15 4:31:02    59  9819        0            1   \n3            \"4   2019-Aug-26 4:14:00    14  5351        1            1   \n4            \"5   2020-Aug-27 1:21:03    14  7779        1            0   \n5            \"6  2020-Aug-19 16:41:01    51  6595        1            1   \n6            \"7  2019-Aug-26 18:49:04     9  6764        1            1   \n7            \"8  2020-Aug-23 13:34:03    45  6381        0            0   \n8            \"9  2020-Aug-31 16:57:02    31  8795        0            1   \n9           \"10   2020-Aug-29 9:18:01    41  4175        0            1   \n\n        Paid Weight Promo AutoIssue  \n0   2605\",\"0   5481     0        0\"  \n1   8553\",\"0   5956     1        1\"  \n2   9995\",\"0   5170     1        0\"  \n3  12603\",\"0   8826     0        0\"  \n4   5625\",\"0   5357     0        0\"  \n5   9191\",\"0   8717     0        0\"  \n6  13167\",\"0   9407     1        1\"  \n7   6251\",\"0   9227     0        0\"  \n8   2047\",\"0   6044     0        1\"  \n9   6300\",\"0   7866     1        1\"  ",
      "text/html": "<div>\n<style scoped>\n    .dataframe tbody tr th:only-of-type {\n        vertical-align: middle;\n    }\n\n    .dataframe tbody tr th {\n        vertical-align: top;\n    }\n\n    .dataframe thead th {\n        text-align: right;\n    }\n</style>\n<table border=\"1\" class=\"dataframe\">\n  <thead>\n    <tr style=\"text-align: right;\">\n      <th></th>\n      <th>TransactionID</th>\n      <th>Date</th>\n      <th>Count</th>\n      <th>Cost</th>\n      <th>Äîñòàâêà</th>\n      <th>Ïëîõîé îòçûâ</th>\n      <th>Paid</th>\n      <th>Weight</th>\n      <th>Promo</th>\n      <th>AutoIssue</th>\n    </tr>\n  </thead>\n  <tbody>\n    <tr>\n      <th>0</th>\n      <td>\"1</td>\n      <td>2020-Aug-21 8:53:03</td>\n      <td>67</td>\n      <td>6325</td>\n      <td>0</td>\n      <td>0</td>\n      <td>2605\",\"0</td>\n      <td>5481</td>\n      <td>0</td>\n      <td>0\"</td>\n    </tr>\n    <tr>\n      <th>1</th>\n      <td>\"2</td>\n      <td>2019-Sep-3 11:53:03</td>\n      <td>90</td>\n      <td>8307</td>\n      <td>1</td>\n      <td>1</td>\n      <td>8553\",\"0</td>\n      <td>5956</td>\n      <td>1</td>\n      <td>1\"</td>\n    </tr>\n    <tr>\n      <th>2</th>\n      <td>\"3</td>\n      <td>2019-Oct-15 4:31:02</td>\n      <td>59</td>\n      <td>9819</td>\n      <td>0</td>\n      <td>1</td>\n      <td>9995\",\"0</td>\n      <td>5170</td>\n      <td>1</td>\n      <td>0\"</td>\n    </tr>\n    <tr>\n      <th>3</th>\n      <td>\"4</td>\n      <td>2019-Aug-26 4:14:00</td>\n      <td>14</td>\n      <td>5351</td>\n      <td>1</td>\n      <td>1</td>\n      <td>12603\",\"0</td>\n      <td>8826</td>\n      <td>0</td>\n      <td>0\"</td>\n    </tr>\n    <tr>\n      <th>4</th>\n      <td>\"5</td>\n      <td>2020-Aug-27 1:21:03</td>\n      <td>14</td>\n      <td>7779</td>\n      <td>1</td>\n      <td>0</td>\n      <td>5625\",\"0</td>\n      <td>5357</td>\n      <td>0</td>\n      <td>0\"</td>\n    </tr>\n    <tr>\n      <th>5</th>\n      <td>\"6</td>\n      <td>2020-Aug-19 16:41:01</td>\n      <td>51</td>\n      <td>6595</td>\n      <td>1</td>\n      <td>1</td>\n      <td>9191\",\"0</td>\n      <td>8717</td>\n      <td>0</td>\n      <td>0\"</td>\n    </tr>\n    <tr>\n      <th>6</th>\n      <td>\"7</td>\n      <td>2019-Aug-26 18:49:04</td>\n      <td>9</td>\n      <td>6764</td>\n      <td>1</td>\n      <td>1</td>\n      <td>13167\",\"0</td>\n      <td>9407</td>\n      <td>1</td>\n      <td>1\"</td>\n    </tr>\n    <tr>\n      <th>7</th>\n      <td>\"8</td>\n      <td>2020-Aug-23 13:34:03</td>\n      <td>45</td>\n      <td>6381</td>\n      <td>0</td>\n      <td>0</td>\n      <td>6251\",\"0</td>\n      <td>9227</td>\n      <td>0</td>\n      <td>0\"</td>\n    </tr>\n    <tr>\n      <th>8</th>\n      <td>\"9</td>\n      <td>2020-Aug-31 16:57:02</td>\n      <td>31</td>\n      <td>8795</td>\n      <td>0</td>\n      <td>1</td>\n      <td>2047\",\"0</td>\n      <td>6044</td>\n      <td>0</td>\n      <td>1\"</td>\n    </tr>\n    <tr>\n      <th>9</th>\n      <td>\"10</td>\n      <td>2020-Aug-29 9:18:01</td>\n      <td>41</td>\n      <td>4175</td>\n      <td>0</td>\n      <td>1</td>\n      <td>6300\",\"0</td>\n      <td>7866</td>\n      <td>1</td>\n      <td>1\"</td>\n    </tr>\n  </tbody>\n</table>\n</div>"
     },
     "execution_count": 318,
     "metadata": {},
     "output_type": "execute_result"
    }
   ],
   "source": [
    "rows = []\n",
    "with open(data_path, 'r', encoding='Latin-1') as f:\n",
    "    # Skip the first line, which contains the column headers\n",
    "    f.readline()\n",
    "    for line in f:\n",
    "        # Split the line on tabs\n",
    "        values = line.strip().split('\\t')\n",
    "        # Append the values to the list of rows\n",
    "        rows.append(values)\n",
    "\n",
    "df = pd.DataFrame(rows, columns=['TransactionID', 'Date', 'Count', 'Cost', 'Äîñòàâêà', 'Ïëîõîé îòçûâ', 'Paid', 'Weight', 'Promo', 'AutoIssue'])\n",
    "df.head(10)"
   ],
   "metadata": {
    "collapsed": false
   }
  },
  {
   "cell_type": "markdown",
   "source": [
    "## 2) Очистка данных"
   ],
   "metadata": {
    "collapsed": false
   }
  },
  {
   "cell_type": "code",
   "execution_count": 319,
   "outputs": [
    {
     "data": {
      "text/plain": "Index(['TransactionID', 'Date', 'Count', 'Cost', 'Äîñòàâêà', 'Ïëîõîé îòçûâ',\n       'Paid', 'Weight', 'Promo', 'AutoIssue'],\n      dtype='object')"
     },
     "execution_count": 319,
     "metadata": {},
     "output_type": "execute_result"
    }
   ],
   "source": [
    "# Clean up TransactionID column\n",
    "df['TransactionID'] = df['TransactionID'].str.replace('\"', '')\n",
    "df['AutoIssue'] = df['AutoIssue'].str.replace('\"', '')\n",
    "\n",
    "# Clean up Paid column\n",
    "df['Paid'] = df['Paid'].str.replace('\"', '').str.split(',', expand=True)[0]\n",
    "df.columns"
   ],
   "metadata": {
    "collapsed": false
   }
  },
  {
   "cell_type": "code",
   "execution_count": 320,
   "outputs": [
    {
     "data": {
      "text/plain": "      TransactionID                  Date Count  Cost   Paid Weight Promo  \\\n0                 1   2020-Aug-21 8:53:03    67  6325   2605   5481     0   \n1                 2   2019-Sep-3 11:53:03    90  8307   8553   5956     1   \n2                 3   2019-Oct-15 4:31:02    59  9819   9995   5170     1   \n3                 4   2019-Aug-26 4:14:00    14  5351  12603   8826     0   \n4                 5   2020-Aug-27 1:21:03    14  7779   5625   5357     0   \n...             ...                   ...   ...   ...    ...    ...   ...   \n14360         14361   2019-Oct-30 4:42:01    70  4716   3201   7509     1   \n14361         14362   2019-Oct-8 23:23:03    14  4547  10810   8511     1   \n14362         14363  2020-Aug-17 18:25:00     8  9940  10597   9649     0   \n14363         14364   2020-Aug-27 9:38:01    92  7180   7200   6638     0   \n14364         14365  2020-Aug-26 13:27:01    23  9680   1991   6589     1   \n\n      AutoIssue  \n0             0  \n1             1  \n2             0  \n3             0  \n4             0  \n...         ...  \n14360         1  \n14361         0  \n14362         1  \n14363         0  \n14364         1  \n\n[14365 rows x 8 columns]",
      "text/html": "<div>\n<style scoped>\n    .dataframe tbody tr th:only-of-type {\n        vertical-align: middle;\n    }\n\n    .dataframe tbody tr th {\n        vertical-align: top;\n    }\n\n    .dataframe thead th {\n        text-align: right;\n    }\n</style>\n<table border=\"1\" class=\"dataframe\">\n  <thead>\n    <tr style=\"text-align: right;\">\n      <th></th>\n      <th>TransactionID</th>\n      <th>Date</th>\n      <th>Count</th>\n      <th>Cost</th>\n      <th>Paid</th>\n      <th>Weight</th>\n      <th>Promo</th>\n      <th>AutoIssue</th>\n    </tr>\n  </thead>\n  <tbody>\n    <tr>\n      <th>0</th>\n      <td>1</td>\n      <td>2020-Aug-21 8:53:03</td>\n      <td>67</td>\n      <td>6325</td>\n      <td>2605</td>\n      <td>5481</td>\n      <td>0</td>\n      <td>0</td>\n    </tr>\n    <tr>\n      <th>1</th>\n      <td>2</td>\n      <td>2019-Sep-3 11:53:03</td>\n      <td>90</td>\n      <td>8307</td>\n      <td>8553</td>\n      <td>5956</td>\n      <td>1</td>\n      <td>1</td>\n    </tr>\n    <tr>\n      <th>2</th>\n      <td>3</td>\n      <td>2019-Oct-15 4:31:02</td>\n      <td>59</td>\n      <td>9819</td>\n      <td>9995</td>\n      <td>5170</td>\n      <td>1</td>\n      <td>0</td>\n    </tr>\n    <tr>\n      <th>3</th>\n      <td>4</td>\n      <td>2019-Aug-26 4:14:00</td>\n      <td>14</td>\n      <td>5351</td>\n      <td>12603</td>\n      <td>8826</td>\n      <td>0</td>\n      <td>0</td>\n    </tr>\n    <tr>\n      <th>4</th>\n      <td>5</td>\n      <td>2020-Aug-27 1:21:03</td>\n      <td>14</td>\n      <td>7779</td>\n      <td>5625</td>\n      <td>5357</td>\n      <td>0</td>\n      <td>0</td>\n    </tr>\n    <tr>\n      <th>...</th>\n      <td>...</td>\n      <td>...</td>\n      <td>...</td>\n      <td>...</td>\n      <td>...</td>\n      <td>...</td>\n      <td>...</td>\n      <td>...</td>\n    </tr>\n    <tr>\n      <th>14360</th>\n      <td>14361</td>\n      <td>2019-Oct-30 4:42:01</td>\n      <td>70</td>\n      <td>4716</td>\n      <td>3201</td>\n      <td>7509</td>\n      <td>1</td>\n      <td>1</td>\n    </tr>\n    <tr>\n      <th>14361</th>\n      <td>14362</td>\n      <td>2019-Oct-8 23:23:03</td>\n      <td>14</td>\n      <td>4547</td>\n      <td>10810</td>\n      <td>8511</td>\n      <td>1</td>\n      <td>0</td>\n    </tr>\n    <tr>\n      <th>14362</th>\n      <td>14363</td>\n      <td>2020-Aug-17 18:25:00</td>\n      <td>8</td>\n      <td>9940</td>\n      <td>10597</td>\n      <td>9649</td>\n      <td>0</td>\n      <td>1</td>\n    </tr>\n    <tr>\n      <th>14363</th>\n      <td>14364</td>\n      <td>2020-Aug-27 9:38:01</td>\n      <td>92</td>\n      <td>7180</td>\n      <td>7200</td>\n      <td>6638</td>\n      <td>0</td>\n      <td>0</td>\n    </tr>\n    <tr>\n      <th>14364</th>\n      <td>14365</td>\n      <td>2020-Aug-26 13:27:01</td>\n      <td>23</td>\n      <td>9680</td>\n      <td>1991</td>\n      <td>6589</td>\n      <td>1</td>\n      <td>1</td>\n    </tr>\n  </tbody>\n</table>\n<p>14365 rows × 8 columns</p>\n</div>"
     },
     "execution_count": 320,
     "metadata": {},
     "output_type": "execute_result"
    }
   ],
   "source": [
    "df2 = df.drop(columns=['Äîñòàâêà', 'Ïëîõîé îòçûâ'])\n",
    "df2"
   ],
   "metadata": {
    "collapsed": false
   }
  },
  {
   "cell_type": "code",
   "execution_count": 321,
   "outputs": [
    {
     "data": {
      "text/plain": "      TransactionID                  Date  Count  Cost   Paid  Weight  Promo  \\\n0                 1   2020-Aug-21 8:53:03     67  6325   2605    5481      0   \n1                 2   2019-Sep-3 11:53:03     90  8307   8553    5956      1   \n2                 3   2019-Oct-15 4:31:02     59  9819   9995    5170      1   \n3                 4   2019-Aug-26 4:14:00     14  5351  12603    8826      0   \n4                 5   2020-Aug-27 1:21:03     14  7779   5625    5357      0   \n...             ...                   ...    ...   ...    ...     ...    ...   \n14360         14361   2019-Oct-30 4:42:01     70  4716   3201    7509      1   \n14361         14362   2019-Oct-8 23:23:03     14  4547  10810    8511      1   \n14362         14363  2020-Aug-17 18:25:00      8  9940  10597    9649      0   \n14363         14364   2020-Aug-27 9:38:01     92  7180   7200    6638      0   \n14364         14365  2020-Aug-26 13:27:01     23  9680   1991    6589      1   \n\n       AutoIssue  \n0              0  \n1              1  \n2              0  \n3              0  \n4              0  \n...          ...  \n14360          1  \n14361          0  \n14362          1  \n14363          0  \n14364          1  \n\n[14365 rows x 8 columns]",
      "text/html": "<div>\n<style scoped>\n    .dataframe tbody tr th:only-of-type {\n        vertical-align: middle;\n    }\n\n    .dataframe tbody tr th {\n        vertical-align: top;\n    }\n\n    .dataframe thead th {\n        text-align: right;\n    }\n</style>\n<table border=\"1\" class=\"dataframe\">\n  <thead>\n    <tr style=\"text-align: right;\">\n      <th></th>\n      <th>TransactionID</th>\n      <th>Date</th>\n      <th>Count</th>\n      <th>Cost</th>\n      <th>Paid</th>\n      <th>Weight</th>\n      <th>Promo</th>\n      <th>AutoIssue</th>\n    </tr>\n  </thead>\n  <tbody>\n    <tr>\n      <th>0</th>\n      <td>1</td>\n      <td>2020-Aug-21 8:53:03</td>\n      <td>67</td>\n      <td>6325</td>\n      <td>2605</td>\n      <td>5481</td>\n      <td>0</td>\n      <td>0</td>\n    </tr>\n    <tr>\n      <th>1</th>\n      <td>2</td>\n      <td>2019-Sep-3 11:53:03</td>\n      <td>90</td>\n      <td>8307</td>\n      <td>8553</td>\n      <td>5956</td>\n      <td>1</td>\n      <td>1</td>\n    </tr>\n    <tr>\n      <th>2</th>\n      <td>3</td>\n      <td>2019-Oct-15 4:31:02</td>\n      <td>59</td>\n      <td>9819</td>\n      <td>9995</td>\n      <td>5170</td>\n      <td>1</td>\n      <td>0</td>\n    </tr>\n    <tr>\n      <th>3</th>\n      <td>4</td>\n      <td>2019-Aug-26 4:14:00</td>\n      <td>14</td>\n      <td>5351</td>\n      <td>12603</td>\n      <td>8826</td>\n      <td>0</td>\n      <td>0</td>\n    </tr>\n    <tr>\n      <th>4</th>\n      <td>5</td>\n      <td>2020-Aug-27 1:21:03</td>\n      <td>14</td>\n      <td>7779</td>\n      <td>5625</td>\n      <td>5357</td>\n      <td>0</td>\n      <td>0</td>\n    </tr>\n    <tr>\n      <th>...</th>\n      <td>...</td>\n      <td>...</td>\n      <td>...</td>\n      <td>...</td>\n      <td>...</td>\n      <td>...</td>\n      <td>...</td>\n      <td>...</td>\n    </tr>\n    <tr>\n      <th>14360</th>\n      <td>14361</td>\n      <td>2019-Oct-30 4:42:01</td>\n      <td>70</td>\n      <td>4716</td>\n      <td>3201</td>\n      <td>7509</td>\n      <td>1</td>\n      <td>1</td>\n    </tr>\n    <tr>\n      <th>14361</th>\n      <td>14362</td>\n      <td>2019-Oct-8 23:23:03</td>\n      <td>14</td>\n      <td>4547</td>\n      <td>10810</td>\n      <td>8511</td>\n      <td>1</td>\n      <td>0</td>\n    </tr>\n    <tr>\n      <th>14362</th>\n      <td>14363</td>\n      <td>2020-Aug-17 18:25:00</td>\n      <td>8</td>\n      <td>9940</td>\n      <td>10597</td>\n      <td>9649</td>\n      <td>0</td>\n      <td>1</td>\n    </tr>\n    <tr>\n      <th>14363</th>\n      <td>14364</td>\n      <td>2020-Aug-27 9:38:01</td>\n      <td>92</td>\n      <td>7180</td>\n      <td>7200</td>\n      <td>6638</td>\n      <td>0</td>\n      <td>0</td>\n    </tr>\n    <tr>\n      <th>14364</th>\n      <td>14365</td>\n      <td>2020-Aug-26 13:27:01</td>\n      <td>23</td>\n      <td>9680</td>\n      <td>1991</td>\n      <td>6589</td>\n      <td>1</td>\n      <td>1</td>\n    </tr>\n  </tbody>\n</table>\n<p>14365 rows × 8 columns</p>\n</div>"
     },
     "execution_count": 321,
     "metadata": {},
     "output_type": "execute_result"
    }
   ],
   "source": [
    "df2[['Count', 'Cost', 'Paid', 'Weight', 'Promo', 'AutoIssue']] = df2[['Count', 'Cost', 'Paid', 'Weight', 'Promo', 'AutoIssue']].astype(int)\n",
    "df2"
   ],
   "metadata": {
    "collapsed": false
   }
  },
  {
   "cell_type": "code",
   "execution_count": 322,
   "outputs": [
    {
     "data": {
      "text/plain": "      TransactionID                  Date  Count  Cost   Paid  Weight  Promo  \\\n0                 1   2020-Aug-21 8:53:03     67  6325   2605   54.81      0   \n1                 2   2019-Sep-3 11:53:03     90  8307   8553   59.56      1   \n2                 3   2019-Oct-15 4:31:02     59  9819   9995   51.70      1   \n3                 4   2019-Aug-26 4:14:00     14  5351  12603   88.26      0   \n4                 5   2020-Aug-27 1:21:03     14  7779   5625   53.57      0   \n...             ...                   ...    ...   ...    ...     ...    ...   \n14360         14361   2019-Oct-30 4:42:01     70  4716   3201   75.09      1   \n14361         14362   2019-Oct-8 23:23:03     14  4547  10810   85.11      1   \n14362         14363  2020-Aug-17 18:25:00      8  9940  10597   96.49      0   \n14363         14364   2020-Aug-27 9:38:01     92  7180   7200   66.38      0   \n14364         14365  2020-Aug-26 13:27:01     23  9680   1991   65.89      1   \n\n       AutoIssue  \n0              0  \n1              1  \n2              0  \n3              0  \n4              0  \n...          ...  \n14360          1  \n14361          0  \n14362          1  \n14363          0  \n14364          1  \n\n[14365 rows x 8 columns]",
      "text/html": "<div>\n<style scoped>\n    .dataframe tbody tr th:only-of-type {\n        vertical-align: middle;\n    }\n\n    .dataframe tbody tr th {\n        vertical-align: top;\n    }\n\n    .dataframe thead th {\n        text-align: right;\n    }\n</style>\n<table border=\"1\" class=\"dataframe\">\n  <thead>\n    <tr style=\"text-align: right;\">\n      <th></th>\n      <th>TransactionID</th>\n      <th>Date</th>\n      <th>Count</th>\n      <th>Cost</th>\n      <th>Paid</th>\n      <th>Weight</th>\n      <th>Promo</th>\n      <th>AutoIssue</th>\n    </tr>\n  </thead>\n  <tbody>\n    <tr>\n      <th>0</th>\n      <td>1</td>\n      <td>2020-Aug-21 8:53:03</td>\n      <td>67</td>\n      <td>6325</td>\n      <td>2605</td>\n      <td>54.81</td>\n      <td>0</td>\n      <td>0</td>\n    </tr>\n    <tr>\n      <th>1</th>\n      <td>2</td>\n      <td>2019-Sep-3 11:53:03</td>\n      <td>90</td>\n      <td>8307</td>\n      <td>8553</td>\n      <td>59.56</td>\n      <td>1</td>\n      <td>1</td>\n    </tr>\n    <tr>\n      <th>2</th>\n      <td>3</td>\n      <td>2019-Oct-15 4:31:02</td>\n      <td>59</td>\n      <td>9819</td>\n      <td>9995</td>\n      <td>51.70</td>\n      <td>1</td>\n      <td>0</td>\n    </tr>\n    <tr>\n      <th>3</th>\n      <td>4</td>\n      <td>2019-Aug-26 4:14:00</td>\n      <td>14</td>\n      <td>5351</td>\n      <td>12603</td>\n      <td>88.26</td>\n      <td>0</td>\n      <td>0</td>\n    </tr>\n    <tr>\n      <th>4</th>\n      <td>5</td>\n      <td>2020-Aug-27 1:21:03</td>\n      <td>14</td>\n      <td>7779</td>\n      <td>5625</td>\n      <td>53.57</td>\n      <td>0</td>\n      <td>0</td>\n    </tr>\n    <tr>\n      <th>...</th>\n      <td>...</td>\n      <td>...</td>\n      <td>...</td>\n      <td>...</td>\n      <td>...</td>\n      <td>...</td>\n      <td>...</td>\n      <td>...</td>\n    </tr>\n    <tr>\n      <th>14360</th>\n      <td>14361</td>\n      <td>2019-Oct-30 4:42:01</td>\n      <td>70</td>\n      <td>4716</td>\n      <td>3201</td>\n      <td>75.09</td>\n      <td>1</td>\n      <td>1</td>\n    </tr>\n    <tr>\n      <th>14361</th>\n      <td>14362</td>\n      <td>2019-Oct-8 23:23:03</td>\n      <td>14</td>\n      <td>4547</td>\n      <td>10810</td>\n      <td>85.11</td>\n      <td>1</td>\n      <td>0</td>\n    </tr>\n    <tr>\n      <th>14362</th>\n      <td>14363</td>\n      <td>2020-Aug-17 18:25:00</td>\n      <td>8</td>\n      <td>9940</td>\n      <td>10597</td>\n      <td>96.49</td>\n      <td>0</td>\n      <td>1</td>\n    </tr>\n    <tr>\n      <th>14363</th>\n      <td>14364</td>\n      <td>2020-Aug-27 9:38:01</td>\n      <td>92</td>\n      <td>7180</td>\n      <td>7200</td>\n      <td>66.38</td>\n      <td>0</td>\n      <td>0</td>\n    </tr>\n    <tr>\n      <th>14364</th>\n      <td>14365</td>\n      <td>2020-Aug-26 13:27:01</td>\n      <td>23</td>\n      <td>9680</td>\n      <td>1991</td>\n      <td>65.89</td>\n      <td>1</td>\n      <td>1</td>\n    </tr>\n  </tbody>\n</table>\n<p>14365 rows × 8 columns</p>\n</div>"
     },
     "execution_count": 322,
     "metadata": {},
     "output_type": "execute_result"
    }
   ],
   "source": [
    "df2['Weight'] = df2['Weight'] / 100\n",
    "df2"
   ],
   "metadata": {
    "collapsed": false
   }
  },
  {
   "cell_type": "code",
   "execution_count": 323,
   "outputs": [
    {
     "name": "stdout",
     "output_type": "stream",
     "text": [
      "<class 'pandas.core.frame.DataFrame'>\n",
      "RangeIndex: 14365 entries, 0 to 14364\n",
      "Data columns (total 8 columns):\n",
      " #   Column         Non-Null Count  Dtype  \n",
      "---  ------         --------------  -----  \n",
      " 0   TransactionID  14365 non-null  object \n",
      " 1   Date           14365 non-null  object \n",
      " 2   Count          14365 non-null  int32  \n",
      " 3   Cost           14365 non-null  int32  \n",
      " 4   Paid           14365 non-null  int32  \n",
      " 5   Weight         14365 non-null  float64\n",
      " 6   Promo          14365 non-null  int32  \n",
      " 7   AutoIssue      14365 non-null  int32  \n",
      "dtypes: float64(1), int32(5), object(2)\n",
      "memory usage: 617.4+ KB\n"
     ]
    }
   ],
   "source": [
    "df2.info()"
   ],
   "metadata": {
    "collapsed": false
   }
  },
  {
   "cell_type": "code",
   "execution_count": 324,
   "outputs": [
    {
     "data": {
      "text/plain": "<pandas.io.formats.style.Styler at 0x17941248520>",
      "text/html": "<style type=\"text/css\">\n#T_ed685_row0_col0, #T_ed685_row1_col0, #T_ed685_row2_col0, #T_ed685_row3_col0, #T_ed685_row4_col0, #T_ed685_row5_col0, #T_ed685_row6_col0, #T_ed685_row7_col0 {\n  background-color: #3b4cc0;\n  color: #f1f1f1;\n}\n</style>\n<table id=\"T_ed685\">\n  <thead>\n    <tr>\n      <th class=\"blank level0\" >&nbsp;</th>\n      <th id=\"T_ed685_level0_col0\" class=\"col_heading level0 col0\" >0</th>\n    </tr>\n  </thead>\n  <tbody>\n    <tr>\n      <th id=\"T_ed685_level0_row0\" class=\"row_heading level0 row0\" >TransactionID</th>\n      <td id=\"T_ed685_row0_col0\" class=\"data row0 col0\" >0.000000</td>\n    </tr>\n    <tr>\n      <th id=\"T_ed685_level0_row1\" class=\"row_heading level0 row1\" >Date</th>\n      <td id=\"T_ed685_row1_col0\" class=\"data row1 col0\" >0.000000</td>\n    </tr>\n    <tr>\n      <th id=\"T_ed685_level0_row2\" class=\"row_heading level0 row2\" >Count</th>\n      <td id=\"T_ed685_row2_col0\" class=\"data row2 col0\" >0.000000</td>\n    </tr>\n    <tr>\n      <th id=\"T_ed685_level0_row3\" class=\"row_heading level0 row3\" >Cost</th>\n      <td id=\"T_ed685_row3_col0\" class=\"data row3 col0\" >0.000000</td>\n    </tr>\n    <tr>\n      <th id=\"T_ed685_level0_row4\" class=\"row_heading level0 row4\" >Paid</th>\n      <td id=\"T_ed685_row4_col0\" class=\"data row4 col0\" >0.000000</td>\n    </tr>\n    <tr>\n      <th id=\"T_ed685_level0_row5\" class=\"row_heading level0 row5\" >Weight</th>\n      <td id=\"T_ed685_row5_col0\" class=\"data row5 col0\" >0.000000</td>\n    </tr>\n    <tr>\n      <th id=\"T_ed685_level0_row6\" class=\"row_heading level0 row6\" >Promo</th>\n      <td id=\"T_ed685_row6_col0\" class=\"data row6 col0\" >0.000000</td>\n    </tr>\n    <tr>\n      <th id=\"T_ed685_level0_row7\" class=\"row_heading level0 row7\" >AutoIssue</th>\n      <td id=\"T_ed685_row7_col0\" class=\"data row7 col0\" >0.000000</td>\n    </tr>\n  </tbody>\n</table>\n"
     },
     "execution_count": 324,
     "metadata": {},
     "output_type": "execute_result"
    }
   ],
   "source": [
    "pd.DataFrame(round(df2.isna().mean()*100,)).style.background_gradient('coolwarm')"
   ],
   "metadata": {
    "collapsed": false
   }
  },
  {
   "cell_type": "markdown",
   "source": [
    "## 3) Создание новых признаков\n",
    "\n",
    "* доходность по формуле;\n",
    "* обработка даты из выгрузки (выделение месяца, года)."
   ],
   "metadata": {
    "collapsed": false
   }
  },
  {
   "cell_type": "code",
   "execution_count": 325,
   "outputs": [
    {
     "data": {
      "text/plain": "      TransactionID                  Date  Count  Cost   Paid  Weight  Promo  \\\n0                 1   2020-Aug-21 8:53:03     67  6325   2605   54.81      0   \n1                 2   2019-Sep-3 11:53:03     90  8307   8553   59.56      1   \n2                 3   2019-Oct-15 4:31:02     59  9819   9995   51.70      1   \n3                 4   2019-Aug-26 4:14:00     14  5351  12603   88.26      0   \n4                 5   2020-Aug-27 1:21:03     14  7779   5625   53.57      0   \n...             ...                   ...    ...   ...    ...     ...    ...   \n14360         14361   2019-Oct-30 4:42:01     70  4716   3201   75.09      1   \n14361         14362   2019-Oct-8 23:23:03     14  4547  10810   85.11      1   \n14362         14363  2020-Aug-17 18:25:00      8  9940  10597   96.49      0   \n14363         14364   2020-Aug-27 9:38:01     92  7180   7200   66.38      0   \n14364         14365  2020-Aug-26 13:27:01     23  9680   1991   65.89      1   \n\n       AutoIssue  \n0              0  \n1              1  \n2              0  \n3              0  \n4              0  \n...          ...  \n14360          1  \n14361          0  \n14362          1  \n14363          0  \n14364          1  \n\n[14365 rows x 8 columns]",
      "text/html": "<div>\n<style scoped>\n    .dataframe tbody tr th:only-of-type {\n        vertical-align: middle;\n    }\n\n    .dataframe tbody tr th {\n        vertical-align: top;\n    }\n\n    .dataframe thead th {\n        text-align: right;\n    }\n</style>\n<table border=\"1\" class=\"dataframe\">\n  <thead>\n    <tr style=\"text-align: right;\">\n      <th></th>\n      <th>TransactionID</th>\n      <th>Date</th>\n      <th>Count</th>\n      <th>Cost</th>\n      <th>Paid</th>\n      <th>Weight</th>\n      <th>Promo</th>\n      <th>AutoIssue</th>\n    </tr>\n  </thead>\n  <tbody>\n    <tr>\n      <th>0</th>\n      <td>1</td>\n      <td>2020-Aug-21 8:53:03</td>\n      <td>67</td>\n      <td>6325</td>\n      <td>2605</td>\n      <td>54.81</td>\n      <td>0</td>\n      <td>0</td>\n    </tr>\n    <tr>\n      <th>1</th>\n      <td>2</td>\n      <td>2019-Sep-3 11:53:03</td>\n      <td>90</td>\n      <td>8307</td>\n      <td>8553</td>\n      <td>59.56</td>\n      <td>1</td>\n      <td>1</td>\n    </tr>\n    <tr>\n      <th>2</th>\n      <td>3</td>\n      <td>2019-Oct-15 4:31:02</td>\n      <td>59</td>\n      <td>9819</td>\n      <td>9995</td>\n      <td>51.70</td>\n      <td>1</td>\n      <td>0</td>\n    </tr>\n    <tr>\n      <th>3</th>\n      <td>4</td>\n      <td>2019-Aug-26 4:14:00</td>\n      <td>14</td>\n      <td>5351</td>\n      <td>12603</td>\n      <td>88.26</td>\n      <td>0</td>\n      <td>0</td>\n    </tr>\n    <tr>\n      <th>4</th>\n      <td>5</td>\n      <td>2020-Aug-27 1:21:03</td>\n      <td>14</td>\n      <td>7779</td>\n      <td>5625</td>\n      <td>53.57</td>\n      <td>0</td>\n      <td>0</td>\n    </tr>\n    <tr>\n      <th>...</th>\n      <td>...</td>\n      <td>...</td>\n      <td>...</td>\n      <td>...</td>\n      <td>...</td>\n      <td>...</td>\n      <td>...</td>\n      <td>...</td>\n    </tr>\n    <tr>\n      <th>14360</th>\n      <td>14361</td>\n      <td>2019-Oct-30 4:42:01</td>\n      <td>70</td>\n      <td>4716</td>\n      <td>3201</td>\n      <td>75.09</td>\n      <td>1</td>\n      <td>1</td>\n    </tr>\n    <tr>\n      <th>14361</th>\n      <td>14362</td>\n      <td>2019-Oct-8 23:23:03</td>\n      <td>14</td>\n      <td>4547</td>\n      <td>10810</td>\n      <td>85.11</td>\n      <td>1</td>\n      <td>0</td>\n    </tr>\n    <tr>\n      <th>14362</th>\n      <td>14363</td>\n      <td>2020-Aug-17 18:25:00</td>\n      <td>8</td>\n      <td>9940</td>\n      <td>10597</td>\n      <td>96.49</td>\n      <td>0</td>\n      <td>1</td>\n    </tr>\n    <tr>\n      <th>14363</th>\n      <td>14364</td>\n      <td>2020-Aug-27 9:38:01</td>\n      <td>92</td>\n      <td>7180</td>\n      <td>7200</td>\n      <td>66.38</td>\n      <td>0</td>\n      <td>0</td>\n    </tr>\n    <tr>\n      <th>14364</th>\n      <td>14365</td>\n      <td>2020-Aug-26 13:27:01</td>\n      <td>23</td>\n      <td>9680</td>\n      <td>1991</td>\n      <td>65.89</td>\n      <td>1</td>\n      <td>1</td>\n    </tr>\n  </tbody>\n</table>\n<p>14365 rows × 8 columns</p>\n</div>"
     },
     "execution_count": 325,
     "metadata": {},
     "output_type": "execute_result"
    }
   ],
   "source": [
    "data = df2.copy()\n",
    "data"
   ],
   "metadata": {
    "collapsed": false
   }
  },
  {
   "cell_type": "markdown",
   "source": [
    "#### Рассчитаем доходность."
   ],
   "metadata": {
    "collapsed": false
   }
  },
  {
   "cell_type": "code",
   "execution_count": 326,
   "outputs": [
    {
     "data": {
      "text/plain": "      TransactionID                  Date  Count  Cost   Paid  Weight  Promo  \\\n0                 1   2020-Aug-21 8:53:03     67  6325   2605   54.81      0   \n1                 2   2019-Sep-3 11:53:03     90  8307   8553   59.56      1   \n2                 3   2019-Oct-15 4:31:02     59  9819   9995   51.70      1   \n3                 4   2019-Aug-26 4:14:00     14  5351  12603   88.26      0   \n4                 5   2020-Aug-27 1:21:03     14  7779   5625   53.57      0   \n...             ...                   ...    ...   ...    ...     ...    ...   \n14360         14361   2019-Oct-30 4:42:01     70  4716   3201   75.09      1   \n14361         14362   2019-Oct-8 23:23:03     14  4547  10810   85.11      1   \n14362         14363  2020-Aug-17 18:25:00      8  9940  10597   96.49      0   \n14363         14364   2020-Aug-27 9:38:01     92  7180   7200   66.38      0   \n14364         14365  2020-Aug-26 13:27:01     23  9680   1991   65.89      1   \n\n       AutoIssue    Profit  \n0              0 -0.588142  \n1              1  0.029614  \n2              0  0.017924  \n3              0  1.355261  \n4              0 -0.276899  \n...          ...       ...  \n14360          1 -0.321247  \n14361          0  1.377392  \n14362          1  0.066097  \n14363          0  0.002786  \n14364          1 -0.794318  \n\n[14365 rows x 9 columns]",
      "text/html": "<div>\n<style scoped>\n    .dataframe tbody tr th:only-of-type {\n        vertical-align: middle;\n    }\n\n    .dataframe tbody tr th {\n        vertical-align: top;\n    }\n\n    .dataframe thead th {\n        text-align: right;\n    }\n</style>\n<table border=\"1\" class=\"dataframe\">\n  <thead>\n    <tr style=\"text-align: right;\">\n      <th></th>\n      <th>TransactionID</th>\n      <th>Date</th>\n      <th>Count</th>\n      <th>Cost</th>\n      <th>Paid</th>\n      <th>Weight</th>\n      <th>Promo</th>\n      <th>AutoIssue</th>\n      <th>Profit</th>\n    </tr>\n  </thead>\n  <tbody>\n    <tr>\n      <th>0</th>\n      <td>1</td>\n      <td>2020-Aug-21 8:53:03</td>\n      <td>67</td>\n      <td>6325</td>\n      <td>2605</td>\n      <td>54.81</td>\n      <td>0</td>\n      <td>0</td>\n      <td>-0.588142</td>\n    </tr>\n    <tr>\n      <th>1</th>\n      <td>2</td>\n      <td>2019-Sep-3 11:53:03</td>\n      <td>90</td>\n      <td>8307</td>\n      <td>8553</td>\n      <td>59.56</td>\n      <td>1</td>\n      <td>1</td>\n      <td>0.029614</td>\n    </tr>\n    <tr>\n      <th>2</th>\n      <td>3</td>\n      <td>2019-Oct-15 4:31:02</td>\n      <td>59</td>\n      <td>9819</td>\n      <td>9995</td>\n      <td>51.70</td>\n      <td>1</td>\n      <td>0</td>\n      <td>0.017924</td>\n    </tr>\n    <tr>\n      <th>3</th>\n      <td>4</td>\n      <td>2019-Aug-26 4:14:00</td>\n      <td>14</td>\n      <td>5351</td>\n      <td>12603</td>\n      <td>88.26</td>\n      <td>0</td>\n      <td>0</td>\n      <td>1.355261</td>\n    </tr>\n    <tr>\n      <th>4</th>\n      <td>5</td>\n      <td>2020-Aug-27 1:21:03</td>\n      <td>14</td>\n      <td>7779</td>\n      <td>5625</td>\n      <td>53.57</td>\n      <td>0</td>\n      <td>0</td>\n      <td>-0.276899</td>\n    </tr>\n    <tr>\n      <th>...</th>\n      <td>...</td>\n      <td>...</td>\n      <td>...</td>\n      <td>...</td>\n      <td>...</td>\n      <td>...</td>\n      <td>...</td>\n      <td>...</td>\n      <td>...</td>\n    </tr>\n    <tr>\n      <th>14360</th>\n      <td>14361</td>\n      <td>2019-Oct-30 4:42:01</td>\n      <td>70</td>\n      <td>4716</td>\n      <td>3201</td>\n      <td>75.09</td>\n      <td>1</td>\n      <td>1</td>\n      <td>-0.321247</td>\n    </tr>\n    <tr>\n      <th>14361</th>\n      <td>14362</td>\n      <td>2019-Oct-8 23:23:03</td>\n      <td>14</td>\n      <td>4547</td>\n      <td>10810</td>\n      <td>85.11</td>\n      <td>1</td>\n      <td>0</td>\n      <td>1.377392</td>\n    </tr>\n    <tr>\n      <th>14362</th>\n      <td>14363</td>\n      <td>2020-Aug-17 18:25:00</td>\n      <td>8</td>\n      <td>9940</td>\n      <td>10597</td>\n      <td>96.49</td>\n      <td>0</td>\n      <td>1</td>\n      <td>0.066097</td>\n    </tr>\n    <tr>\n      <th>14363</th>\n      <td>14364</td>\n      <td>2020-Aug-27 9:38:01</td>\n      <td>92</td>\n      <td>7180</td>\n      <td>7200</td>\n      <td>66.38</td>\n      <td>0</td>\n      <td>0</td>\n      <td>0.002786</td>\n    </tr>\n    <tr>\n      <th>14364</th>\n      <td>14365</td>\n      <td>2020-Aug-26 13:27:01</td>\n      <td>23</td>\n      <td>9680</td>\n      <td>1991</td>\n      <td>65.89</td>\n      <td>1</td>\n      <td>1</td>\n      <td>-0.794318</td>\n    </tr>\n  </tbody>\n</table>\n<p>14365 rows × 9 columns</p>\n</div>"
     },
     "execution_count": 326,
     "metadata": {},
     "output_type": "execute_result"
    }
   ],
   "source": [
    "data['Profit'] = (data['Paid'] - data['Cost']) / data['Cost']\n",
    "data"
   ],
   "metadata": {
    "collapsed": false
   }
  },
  {
   "cell_type": "markdown",
   "source": [
    "#### Обработаем дату и время."
   ],
   "metadata": {
    "collapsed": false
   }
  },
  {
   "cell_type": "code",
   "execution_count": 327,
   "outputs": [
    {
     "data": {
      "text/plain": "      TransactionID                  Date  Count  Cost   Paid  Weight  Promo  \\\n0                 1   2020-Aug-21 8:53:03     67  6325   2605   54.81      0   \n1                 2   2019-Sep-3 11:53:03     90  8307   8553   59.56      1   \n2                 3   2019-Oct-15 4:31:02     59  9819   9995   51.70      1   \n3                 4   2019-Aug-26 4:14:00     14  5351  12603   88.26      0   \n4                 5   2020-Aug-27 1:21:03     14  7779   5625   53.57      0   \n...             ...                   ...    ...   ...    ...     ...    ...   \n14360         14361   2019-Oct-30 4:42:01     70  4716   3201   75.09      1   \n14361         14362   2019-Oct-8 23:23:03     14  4547  10810   85.11      1   \n14362         14363  2020-Aug-17 18:25:00      8  9940  10597   96.49      0   \n14363         14364   2020-Aug-27 9:38:01     92  7180   7200   66.38      0   \n14364         14365  2020-Aug-26 13:27:01     23  9680   1991   65.89      1   \n\n       AutoIssue    Profit    DateOnly  \n0              0 -0.588142  2020-08-21  \n1              1  0.029614  2019-09-03  \n2              0  0.017924  2019-10-15  \n3              0  1.355261  2019-08-26  \n4              0 -0.276899  2020-08-27  \n...          ...       ...         ...  \n14360          1 -0.321247  2019-10-30  \n14361          0  1.377392  2019-10-08  \n14362          1  0.066097  2020-08-17  \n14363          0  0.002786  2020-08-27  \n14364          1 -0.794318  2020-08-26  \n\n[14365 rows x 10 columns]",
      "text/html": "<div>\n<style scoped>\n    .dataframe tbody tr th:only-of-type {\n        vertical-align: middle;\n    }\n\n    .dataframe tbody tr th {\n        vertical-align: top;\n    }\n\n    .dataframe thead th {\n        text-align: right;\n    }\n</style>\n<table border=\"1\" class=\"dataframe\">\n  <thead>\n    <tr style=\"text-align: right;\">\n      <th></th>\n      <th>TransactionID</th>\n      <th>Date</th>\n      <th>Count</th>\n      <th>Cost</th>\n      <th>Paid</th>\n      <th>Weight</th>\n      <th>Promo</th>\n      <th>AutoIssue</th>\n      <th>Profit</th>\n      <th>DateOnly</th>\n    </tr>\n  </thead>\n  <tbody>\n    <tr>\n      <th>0</th>\n      <td>1</td>\n      <td>2020-Aug-21 8:53:03</td>\n      <td>67</td>\n      <td>6325</td>\n      <td>2605</td>\n      <td>54.81</td>\n      <td>0</td>\n      <td>0</td>\n      <td>-0.588142</td>\n      <td>2020-08-21</td>\n    </tr>\n    <tr>\n      <th>1</th>\n      <td>2</td>\n      <td>2019-Sep-3 11:53:03</td>\n      <td>90</td>\n      <td>8307</td>\n      <td>8553</td>\n      <td>59.56</td>\n      <td>1</td>\n      <td>1</td>\n      <td>0.029614</td>\n      <td>2019-09-03</td>\n    </tr>\n    <tr>\n      <th>2</th>\n      <td>3</td>\n      <td>2019-Oct-15 4:31:02</td>\n      <td>59</td>\n      <td>9819</td>\n      <td>9995</td>\n      <td>51.70</td>\n      <td>1</td>\n      <td>0</td>\n      <td>0.017924</td>\n      <td>2019-10-15</td>\n    </tr>\n    <tr>\n      <th>3</th>\n      <td>4</td>\n      <td>2019-Aug-26 4:14:00</td>\n      <td>14</td>\n      <td>5351</td>\n      <td>12603</td>\n      <td>88.26</td>\n      <td>0</td>\n      <td>0</td>\n      <td>1.355261</td>\n      <td>2019-08-26</td>\n    </tr>\n    <tr>\n      <th>4</th>\n      <td>5</td>\n      <td>2020-Aug-27 1:21:03</td>\n      <td>14</td>\n      <td>7779</td>\n      <td>5625</td>\n      <td>53.57</td>\n      <td>0</td>\n      <td>0</td>\n      <td>-0.276899</td>\n      <td>2020-08-27</td>\n    </tr>\n    <tr>\n      <th>...</th>\n      <td>...</td>\n      <td>...</td>\n      <td>...</td>\n      <td>...</td>\n      <td>...</td>\n      <td>...</td>\n      <td>...</td>\n      <td>...</td>\n      <td>...</td>\n      <td>...</td>\n    </tr>\n    <tr>\n      <th>14360</th>\n      <td>14361</td>\n      <td>2019-Oct-30 4:42:01</td>\n      <td>70</td>\n      <td>4716</td>\n      <td>3201</td>\n      <td>75.09</td>\n      <td>1</td>\n      <td>1</td>\n      <td>-0.321247</td>\n      <td>2019-10-30</td>\n    </tr>\n    <tr>\n      <th>14361</th>\n      <td>14362</td>\n      <td>2019-Oct-8 23:23:03</td>\n      <td>14</td>\n      <td>4547</td>\n      <td>10810</td>\n      <td>85.11</td>\n      <td>1</td>\n      <td>0</td>\n      <td>1.377392</td>\n      <td>2019-10-08</td>\n    </tr>\n    <tr>\n      <th>14362</th>\n      <td>14363</td>\n      <td>2020-Aug-17 18:25:00</td>\n      <td>8</td>\n      <td>9940</td>\n      <td>10597</td>\n      <td>96.49</td>\n      <td>0</td>\n      <td>1</td>\n      <td>0.066097</td>\n      <td>2020-08-17</td>\n    </tr>\n    <tr>\n      <th>14363</th>\n      <td>14364</td>\n      <td>2020-Aug-27 9:38:01</td>\n      <td>92</td>\n      <td>7180</td>\n      <td>7200</td>\n      <td>66.38</td>\n      <td>0</td>\n      <td>0</td>\n      <td>0.002786</td>\n      <td>2020-08-27</td>\n    </tr>\n    <tr>\n      <th>14364</th>\n      <td>14365</td>\n      <td>2020-Aug-26 13:27:01</td>\n      <td>23</td>\n      <td>9680</td>\n      <td>1991</td>\n      <td>65.89</td>\n      <td>1</td>\n      <td>1</td>\n      <td>-0.794318</td>\n      <td>2020-08-26</td>\n    </tr>\n  </tbody>\n</table>\n<p>14365 rows × 10 columns</p>\n</div>"
     },
     "execution_count": 327,
     "metadata": {},
     "output_type": "execute_result"
    }
   ],
   "source": [
    "data['DateOnly'] = pd.to_datetime(data['Date']).dt.date\n",
    "data"
   ],
   "metadata": {
    "collapsed": false
   }
  },
  {
   "cell_type": "code",
   "execution_count": 328,
   "outputs": [
    {
     "name": "stdout",
     "output_type": "stream",
     "text": [
      "0\n"
     ]
    }
   ],
   "source": [
    "print(data['DateOnly'].isnull().sum())"
   ],
   "metadata": {
    "collapsed": false
   }
  },
  {
   "cell_type": "code",
   "execution_count": 329,
   "outputs": [],
   "source": [
    "data['DateOnly'] = pd.to_datetime(data['DateOnly'], format='%Y-%m-%d')"
   ],
   "metadata": {
    "collapsed": false
   }
  },
  {
   "cell_type": "code",
   "execution_count": 305,
   "outputs": [],
   "source": [
    "data[['Count', 'Cost', 'Paid', 'Weight', 'Promo', 'AutoIssue']] = data[['Count', 'Cost', 'Paid', 'Weight', 'Promo', 'AutoIssue']].astype(int)"
   ],
   "metadata": {
    "collapsed": false
   }
  },
  {
   "cell_type": "code",
   "execution_count": 306,
   "outputs": [],
   "source": [
    "# data.sort_index(inplace=True)\n",
    "# data['DateOnly'].plot()\n",
    "# plt.show();"
   ],
   "metadata": {
    "collapsed": false
   }
  },
  {
   "cell_type": "code",
   "execution_count": 307,
   "outputs": [],
   "source": [
    "def make_features(data, column, max_lag, rolling_mean_size):\n",
    "    # creating new features\n",
    "    data['Year'] = data.index.year\n",
    "    data['Month'] = data.index.month\n",
    "    data['Day'] = data.index.day\n",
    "\n",
    "    return data"
   ],
   "metadata": {
    "collapsed": false
   }
  },
  {
   "cell_type": "code",
   "execution_count": 308,
   "outputs": [
    {
     "data": {
      "text/plain": "(14365, 12)"
     },
     "execution_count": 308,
     "metadata": {},
     "output_type": "execute_result"
    }
   ],
   "source": [
    "data = data.set_index('DateOnly')\n",
    "data_features = make_features(data, 'Profit', 1, 1)\n",
    "# NAs are < 10%, so we can safely delete them\n",
    "data_features = data_features.dropna()\n",
    "data_features.shape"
   ],
   "metadata": {
    "collapsed": false
   }
  },
  {
   "cell_type": "code",
   "execution_count": 309,
   "outputs": [
    {
     "data": {
      "text/plain": "           TransactionID                  Date  Count  Cost   Paid  Weight  \\\nDateOnly                                                                     \n2020-08-21             1   2020-Aug-21 8:53:03     67  6325   2605      54   \n2019-09-03             2   2019-Sep-3 11:53:03     90  8307   8553      59   \n2019-10-15             3   2019-Oct-15 4:31:02     59  9819   9995      51   \n2019-08-26             4   2019-Aug-26 4:14:00     14  5351  12603      88   \n2020-08-27             5   2020-Aug-27 1:21:03     14  7779   5625      53   \n2020-08-19             6  2020-Aug-19 16:41:01     51  6595   9191      87   \n2019-08-26             7  2019-Aug-26 18:49:04      9  6764  13167      94   \n2020-08-23             8  2020-Aug-23 13:34:03     45  6381   6251      92   \n2020-08-31             9  2020-Aug-31 16:57:02     31  8795   2047      60   \n2020-08-29            10   2020-Aug-29 9:18:01     41  4175   6300      78   \n\n            Promo  AutoIssue    Profit  Year  Month  Day  \nDateOnly                                                  \n2020-08-21      0          0 -0.588142  2020      8   21  \n2019-09-03      1          1  0.029614  2019      9    3  \n2019-10-15      1          0  0.017924  2019     10   15  \n2019-08-26      0          0  1.355261  2019      8   26  \n2020-08-27      0          0 -0.276899  2020      8   27  \n2020-08-19      0          0  0.393632  2020      8   19  \n2019-08-26      1          1  0.946629  2019      8   26  \n2020-08-23      0          0 -0.020373  2020      8   23  \n2020-08-31      0          1 -0.767254  2020      8   31  \n2020-08-29      1          1  0.508982  2020      8   29  ",
      "text/html": "<div>\n<style scoped>\n    .dataframe tbody tr th:only-of-type {\n        vertical-align: middle;\n    }\n\n    .dataframe tbody tr th {\n        vertical-align: top;\n    }\n\n    .dataframe thead th {\n        text-align: right;\n    }\n</style>\n<table border=\"1\" class=\"dataframe\">\n  <thead>\n    <tr style=\"text-align: right;\">\n      <th></th>\n      <th>TransactionID</th>\n      <th>Date</th>\n      <th>Count</th>\n      <th>Cost</th>\n      <th>Paid</th>\n      <th>Weight</th>\n      <th>Promo</th>\n      <th>AutoIssue</th>\n      <th>Profit</th>\n      <th>Year</th>\n      <th>Month</th>\n      <th>Day</th>\n    </tr>\n    <tr>\n      <th>DateOnly</th>\n      <th></th>\n      <th></th>\n      <th></th>\n      <th></th>\n      <th></th>\n      <th></th>\n      <th></th>\n      <th></th>\n      <th></th>\n      <th></th>\n      <th></th>\n      <th></th>\n    </tr>\n  </thead>\n  <tbody>\n    <tr>\n      <th>2020-08-21</th>\n      <td>1</td>\n      <td>2020-Aug-21 8:53:03</td>\n      <td>67</td>\n      <td>6325</td>\n      <td>2605</td>\n      <td>54</td>\n      <td>0</td>\n      <td>0</td>\n      <td>-0.588142</td>\n      <td>2020</td>\n      <td>8</td>\n      <td>21</td>\n    </tr>\n    <tr>\n      <th>2019-09-03</th>\n      <td>2</td>\n      <td>2019-Sep-3 11:53:03</td>\n      <td>90</td>\n      <td>8307</td>\n      <td>8553</td>\n      <td>59</td>\n      <td>1</td>\n      <td>1</td>\n      <td>0.029614</td>\n      <td>2019</td>\n      <td>9</td>\n      <td>3</td>\n    </tr>\n    <tr>\n      <th>2019-10-15</th>\n      <td>3</td>\n      <td>2019-Oct-15 4:31:02</td>\n      <td>59</td>\n      <td>9819</td>\n      <td>9995</td>\n      <td>51</td>\n      <td>1</td>\n      <td>0</td>\n      <td>0.017924</td>\n      <td>2019</td>\n      <td>10</td>\n      <td>15</td>\n    </tr>\n    <tr>\n      <th>2019-08-26</th>\n      <td>4</td>\n      <td>2019-Aug-26 4:14:00</td>\n      <td>14</td>\n      <td>5351</td>\n      <td>12603</td>\n      <td>88</td>\n      <td>0</td>\n      <td>0</td>\n      <td>1.355261</td>\n      <td>2019</td>\n      <td>8</td>\n      <td>26</td>\n    </tr>\n    <tr>\n      <th>2020-08-27</th>\n      <td>5</td>\n      <td>2020-Aug-27 1:21:03</td>\n      <td>14</td>\n      <td>7779</td>\n      <td>5625</td>\n      <td>53</td>\n      <td>0</td>\n      <td>0</td>\n      <td>-0.276899</td>\n      <td>2020</td>\n      <td>8</td>\n      <td>27</td>\n    </tr>\n    <tr>\n      <th>2020-08-19</th>\n      <td>6</td>\n      <td>2020-Aug-19 16:41:01</td>\n      <td>51</td>\n      <td>6595</td>\n      <td>9191</td>\n      <td>87</td>\n      <td>0</td>\n      <td>0</td>\n      <td>0.393632</td>\n      <td>2020</td>\n      <td>8</td>\n      <td>19</td>\n    </tr>\n    <tr>\n      <th>2019-08-26</th>\n      <td>7</td>\n      <td>2019-Aug-26 18:49:04</td>\n      <td>9</td>\n      <td>6764</td>\n      <td>13167</td>\n      <td>94</td>\n      <td>1</td>\n      <td>1</td>\n      <td>0.946629</td>\n      <td>2019</td>\n      <td>8</td>\n      <td>26</td>\n    </tr>\n    <tr>\n      <th>2020-08-23</th>\n      <td>8</td>\n      <td>2020-Aug-23 13:34:03</td>\n      <td>45</td>\n      <td>6381</td>\n      <td>6251</td>\n      <td>92</td>\n      <td>0</td>\n      <td>0</td>\n      <td>-0.020373</td>\n      <td>2020</td>\n      <td>8</td>\n      <td>23</td>\n    </tr>\n    <tr>\n      <th>2020-08-31</th>\n      <td>9</td>\n      <td>2020-Aug-31 16:57:02</td>\n      <td>31</td>\n      <td>8795</td>\n      <td>2047</td>\n      <td>60</td>\n      <td>0</td>\n      <td>1</td>\n      <td>-0.767254</td>\n      <td>2020</td>\n      <td>8</td>\n      <td>31</td>\n    </tr>\n    <tr>\n      <th>2020-08-29</th>\n      <td>10</td>\n      <td>2020-Aug-29 9:18:01</td>\n      <td>41</td>\n      <td>4175</td>\n      <td>6300</td>\n      <td>78</td>\n      <td>1</td>\n      <td>1</td>\n      <td>0.508982</td>\n      <td>2020</td>\n      <td>8</td>\n      <td>29</td>\n    </tr>\n  </tbody>\n</table>\n</div>"
     },
     "execution_count": 309,
     "metadata": {},
     "output_type": "execute_result"
    }
   ],
   "source": [
    "data.head(10)"
   ],
   "metadata": {
    "collapsed": false
   }
  },
  {
   "cell_type": "markdown",
   "source": [
    "#### Поля итоговой таблицы:\n",
    "* «Месяц»\n",
    "* «Введен промокод»\n",
    "* «Кол-во транзакций»\n",
    "* «Плохих отзывов, %»\n",
    "* «Доходность, %»"
   ],
   "metadata": {
    "collapsed": false
   }
  },
  {
   "cell_type": "code",
   "execution_count": 310,
   "outputs": [
    {
     "data": {
      "text/plain": "Index(['TransactionID', 'Date', 'Count', 'Cost', 'Paid', 'Weight', 'Promo',\n       'AutoIssue', 'Profit', 'Year', 'Month', 'Day'],\n      dtype='object')"
     },
     "execution_count": 310,
     "metadata": {},
     "output_type": "execute_result"
    }
   ],
   "source": [
    "data.columns"
   ],
   "metadata": {
    "collapsed": false
   }
  },
  {
   "cell_type": "code",
   "execution_count": 311,
   "outputs": [
    {
     "data": {
      "text/plain": "            Month  Promo  Count  Weight    Profit\nDateOnly                                         \n2020-08-21      8      0     67      54 -0.588142\n2019-09-03      9      1     90      59  0.029614\n2019-10-15     10      1     59      51  0.017924\n2019-08-26      8      0     14      88  1.355261\n2020-08-27      8      0     14      53 -0.276899\n...           ...    ...    ...     ...       ...\n2019-10-30     10      1     70      75 -0.321247\n2019-10-08     10      1     14      85  1.377392\n2020-08-17      8      0      8      96  0.066097\n2020-08-27      8      0     92      66  0.002786\n2020-08-26      8      1     23      65 -0.794318\n\n[14365 rows x 5 columns]",
      "text/html": "<div>\n<style scoped>\n    .dataframe tbody tr th:only-of-type {\n        vertical-align: middle;\n    }\n\n    .dataframe tbody tr th {\n        vertical-align: top;\n    }\n\n    .dataframe thead th {\n        text-align: right;\n    }\n</style>\n<table border=\"1\" class=\"dataframe\">\n  <thead>\n    <tr style=\"text-align: right;\">\n      <th></th>\n      <th>Month</th>\n      <th>Promo</th>\n      <th>Count</th>\n      <th>Weight</th>\n      <th>Profit</th>\n    </tr>\n    <tr>\n      <th>DateOnly</th>\n      <th></th>\n      <th></th>\n      <th></th>\n      <th></th>\n      <th></th>\n    </tr>\n  </thead>\n  <tbody>\n    <tr>\n      <th>2020-08-21</th>\n      <td>8</td>\n      <td>0</td>\n      <td>67</td>\n      <td>54</td>\n      <td>-0.588142</td>\n    </tr>\n    <tr>\n      <th>2019-09-03</th>\n      <td>9</td>\n      <td>1</td>\n      <td>90</td>\n      <td>59</td>\n      <td>0.029614</td>\n    </tr>\n    <tr>\n      <th>2019-10-15</th>\n      <td>10</td>\n      <td>1</td>\n      <td>59</td>\n      <td>51</td>\n      <td>0.017924</td>\n    </tr>\n    <tr>\n      <th>2019-08-26</th>\n      <td>8</td>\n      <td>0</td>\n      <td>14</td>\n      <td>88</td>\n      <td>1.355261</td>\n    </tr>\n    <tr>\n      <th>2020-08-27</th>\n      <td>8</td>\n      <td>0</td>\n      <td>14</td>\n      <td>53</td>\n      <td>-0.276899</td>\n    </tr>\n    <tr>\n      <th>...</th>\n      <td>...</td>\n      <td>...</td>\n      <td>...</td>\n      <td>...</td>\n      <td>...</td>\n    </tr>\n    <tr>\n      <th>2019-10-30</th>\n      <td>10</td>\n      <td>1</td>\n      <td>70</td>\n      <td>75</td>\n      <td>-0.321247</td>\n    </tr>\n    <tr>\n      <th>2019-10-08</th>\n      <td>10</td>\n      <td>1</td>\n      <td>14</td>\n      <td>85</td>\n      <td>1.377392</td>\n    </tr>\n    <tr>\n      <th>2020-08-17</th>\n      <td>8</td>\n      <td>0</td>\n      <td>8</td>\n      <td>96</td>\n      <td>0.066097</td>\n    </tr>\n    <tr>\n      <th>2020-08-27</th>\n      <td>8</td>\n      <td>0</td>\n      <td>92</td>\n      <td>66</td>\n      <td>0.002786</td>\n    </tr>\n    <tr>\n      <th>2020-08-26</th>\n      <td>8</td>\n      <td>1</td>\n      <td>23</td>\n      <td>65</td>\n      <td>-0.794318</td>\n    </tr>\n  </tbody>\n</table>\n<p>14365 rows × 5 columns</p>\n</div>"
     },
     "execution_count": 311,
     "metadata": {},
     "output_type": "execute_result"
    }
   ],
   "source": [
    "data_final = data[['Month', 'Promo', 'Count', 'Weight', 'Profit']]\n",
    "data_final"
   ],
   "metadata": {
    "collapsed": false
   }
  },
  {
   "cell_type": "markdown",
   "source": [
    "#### Сохраним итоговые данные."
   ],
   "metadata": {
    "collapsed": false
   }
  },
  {
   "cell_type": "code",
   "execution_count": 312,
   "outputs": [],
   "source": [
    "# create the directory if it does not exist\n",
    "if not os.path.exists(directory):\n",
    "    os.makedirs(directory)\n",
    "\n",
    "# set the file path\n",
    "file_path = os.path.join(directory, \"data_final.csv\")\n",
    "\n",
    "# save the data as CSV file\n",
    "data_final.to_csv(file_path, index=False)"
   ],
   "metadata": {
    "collapsed": false
   }
  },
  {
   "cell_type": "markdown",
   "source": [
    "### *Выводы:* Исходные данные были загружены, приведены к формату датафрейма и обработаны. В ходе предварительной обработки колонка ```'Weight'``` была приведена к процентному значению; были добавлены новые признаки - доходность```'Profit'``` была рассчитана по формуле, а также из колонки формата даты и времени были выделены значения года, месяца и дня ```'Year', 'Month', 'Day'```.\n",
    "\n",
    "### Дальнейший анализ:\n",
    "* выделить новые признаки с помощью ресемплинга;\n",
    "* добавить скользящие среднее;\n",
    "* проверить ряд на автокоррерляцию, оценить тренд, проследить сезонность."
   ],
   "metadata": {
    "collapsed": false
   }
  }
 ],
 "metadata": {
  "kernelspec": {
   "display_name": "Python 3",
   "language": "python",
   "name": "python3"
  },
  "language_info": {
   "codemirror_mode": {
    "name": "ipython",
    "version": 2
   },
   "file_extension": ".py",
   "mimetype": "text/x-python",
   "name": "python",
   "nbconvert_exporter": "python",
   "pygments_lexer": "ipython2",
   "version": "2.7.6"
  }
 },
 "nbformat": 4,
 "nbformat_minor": 0
}
