{
 "cells": [
  {
   "cell_type": "markdown",
   "source": [
    "# Case 4. Кредитный скоринг\n",
    "\n",
    "### Задача\n",
    "\n",
    "Построить модель, которая будет предсказывать вероятность неплатежа клиента в следующем месяце.\n",
    "Необходимо описать все выполняемые этапы построения, например, обработка данных, нормализация, отбор предикторов, оценка результатов построения, сравнение различных моделей и тд.\n",
    "\n",
    "### Входные данные\n",
    "\n",
    "Набор данных содержит информацию о дефолтных платежах, демографических факторах, кредитных данных, истории платежей и выписках по счетам клиентов по кредитным картам на Тайване с апреля 2005 г. по сентябрь 2005 г. Наименование файла с данными - UCI_Credit_Card.csv\n",
    "\n",
    "### Описание переменных\n",
    "\n",
    "Всего 25 переменных:\n",
    "1.\tID : ID каждого клиента\n",
    "2.\tLIMIT_BAL : сумма предоставленного кредита в тайваньских долларах (включает индивидуальный и семейный / дополнительный кредит)\n",
    "3.\tSEX : Пол (1 = мужской, 2 = женский)\n",
    "4.\tEDUCATION: (1 = аспирантура, 2 = университет, 3 = средняя школа, 4 = другие, 5 = неизвестно, 6 = неизвестно)\n",
    "5.\tMARRIAGE: Семейное положение (1 = женат, 2 = холост, 3 = другие)\n",
    "6.\tAGE: Возраст в годах\n",
    "7.\tPAY_0 : Статус погашения в сентябре 2005 г. (-1 = своевременная оплата, 1 = задержка платежа на один месяц, 2 = задержка платежа на два месяца,… 8 = задержка платежа на восемь месяцев, 9 = задержка платежа на девять месяцев и более)\n",
    "8.\tPAY_2 : Статус погашения в августе 2005 г. (шкала такая же, как указано выше)\n",
    "9.\tPAY_3 : Статус погашения в июле 2005 г. (шкала такая же, как указано выше)\n",
    "10.\tPAY_4 : Статус погашения в июне 2005 г. (шкала такая же, как указано выше)\n",
    "11.\tPAY_5 : Статус погашения в мае 2005 г. (шкала такая же, как указано выше)\n",
    "12.\tPAY_6 : Статус погашения в апреле 2005 г. (шкала такая же, как указано выше)\n",
    "13.\tBILL_AMT1 : Сумма выписки по счету за сентябрь 2005 г. (NT-доллар)\n",
    "14.\tBILL_AMT2 : Сумма выписки по счету в августе 2005 г. (NT-доллар)\n",
    "15.\tBILL_AMT3 : Сумма выписки по счету за июль 2005 г. (NT-доллар)\n",
    "16.\tBILL_AMT4 : Сумма выписки по счету в июне 2005 г. (NT-доллар)\n",
    "17.\tBILL_AMT5 : Сумма выписки по счету в мае 2005 г. (NT-доллар)\n",
    "18.\tBILL_AMT6 : Сумма выписки по счету в апреле 2005 г. (NT-доллар)\n",
    "19.\tPAY_AMT1 : Сумма предыдущего платежа в сентябре 2005 г. (NT-доллар)\n",
    "20.\tPAY_AMT2 : Сумма предыдущего платежа в августе 2005 г. (NT-доллар)\n",
    "21.\tPAY_AMT3 : Сумма предыдущего платежа в июле 2005 г. (NT-доллар)\n",
    "22.\tPAY_AMT4 : Сумма предыдущего платежа в июне 2005 г. (NT-доллар)\n",
    "23.\tPAY_AMT5 : Сумма предыдущего платежа в мае 2005 г. (NT-доллар)\n",
    "24.\tPAY_AMT6 : Сумма предыдущего платежа в апреле 2005 г. (NT-доллар)\n",
    "25.\tdefault.payment.next.month : дефолт платежа в следующем месяце (1 = да, 0 = нет)"
   ],
   "metadata": {
    "collapsed": false
   }
  },
  {
   "cell_type": "code",
   "execution_count": 1,
   "outputs": [],
   "source": [
    "import pandas as pd"
   ],
   "metadata": {
    "collapsed": false
   }
  },
  {
   "cell_type": "code",
   "execution_count": 2,
   "outputs": [
    {
     "data": {
      "text/plain": "   ID  LIMIT_BAL  SEX  EDUCATION  MARRIAGE  AGE  PAY_0  PAY_2  PAY_3  PAY_4  \\\n0   1    20000.0    2          2         1   24      2      2     -1     -1   \n1   2   120000.0    2          2         2   26     -1      2      0      0   \n2   3    90000.0    2          2         2   34      0      0      0      0   \n3   4    50000.0    2          2         1   37      0      0      0      0   \n4   5    50000.0    1          2         1   57     -1      0     -1      0   \n5   6    50000.0    1          1         2   37      0      0      0      0   \n6   7   500000.0    1          1         2   29      0      0      0      0   \n7   8   100000.0    2          2         2   23      0     -1     -1      0   \n8   9   140000.0    2          3         1   28      0      0      2      0   \n9  10    20000.0    1          3         2   35     -2     -2     -2     -2   \n\n   ...  BILL_AMT4  BILL_AMT5  BILL_AMT6  PAY_AMT1  PAY_AMT2  PAY_AMT3  \\\n0  ...        0.0        0.0        0.0       0.0     689.0       0.0   \n1  ...     3272.0     3455.0     3261.0       0.0    1000.0    1000.0   \n2  ...    14331.0    14948.0    15549.0    1518.0    1500.0    1000.0   \n3  ...    28314.0    28959.0    29547.0    2000.0    2019.0    1200.0   \n4  ...    20940.0    19146.0    19131.0    2000.0   36681.0   10000.0   \n5  ...    19394.0    19619.0    20024.0    2500.0    1815.0     657.0   \n6  ...   542653.0   483003.0   473944.0   55000.0   40000.0   38000.0   \n7  ...      221.0     -159.0      567.0     380.0     601.0       0.0   \n8  ...    12211.0    11793.0     3719.0    3329.0       0.0     432.0   \n9  ...        0.0    13007.0    13912.0       0.0       0.0       0.0   \n\n   PAY_AMT4  PAY_AMT5  PAY_AMT6  default.payment.next.month  \n0       0.0       0.0       0.0                           1  \n1    1000.0       0.0    2000.0                           1  \n2    1000.0    1000.0    5000.0                           0  \n3    1100.0    1069.0    1000.0                           0  \n4    9000.0     689.0     679.0                           0  \n5    1000.0    1000.0     800.0                           0  \n6   20239.0   13750.0   13770.0                           0  \n7     581.0    1687.0    1542.0                           0  \n8    1000.0    1000.0    1000.0                           0  \n9   13007.0    1122.0       0.0                           0  \n\n[10 rows x 25 columns]",
      "text/html": "<div>\n<style scoped>\n    .dataframe tbody tr th:only-of-type {\n        vertical-align: middle;\n    }\n\n    .dataframe tbody tr th {\n        vertical-align: top;\n    }\n\n    .dataframe thead th {\n        text-align: right;\n    }\n</style>\n<table border=\"1\" class=\"dataframe\">\n  <thead>\n    <tr style=\"text-align: right;\">\n      <th></th>\n      <th>ID</th>\n      <th>LIMIT_BAL</th>\n      <th>SEX</th>\n      <th>EDUCATION</th>\n      <th>MARRIAGE</th>\n      <th>AGE</th>\n      <th>PAY_0</th>\n      <th>PAY_2</th>\n      <th>PAY_3</th>\n      <th>PAY_4</th>\n      <th>...</th>\n      <th>BILL_AMT4</th>\n      <th>BILL_AMT5</th>\n      <th>BILL_AMT6</th>\n      <th>PAY_AMT1</th>\n      <th>PAY_AMT2</th>\n      <th>PAY_AMT3</th>\n      <th>PAY_AMT4</th>\n      <th>PAY_AMT5</th>\n      <th>PAY_AMT6</th>\n      <th>default.payment.next.month</th>\n    </tr>\n  </thead>\n  <tbody>\n    <tr>\n      <th>0</th>\n      <td>1</td>\n      <td>20000.0</td>\n      <td>2</td>\n      <td>2</td>\n      <td>1</td>\n      <td>24</td>\n      <td>2</td>\n      <td>2</td>\n      <td>-1</td>\n      <td>-1</td>\n      <td>...</td>\n      <td>0.0</td>\n      <td>0.0</td>\n      <td>0.0</td>\n      <td>0.0</td>\n      <td>689.0</td>\n      <td>0.0</td>\n      <td>0.0</td>\n      <td>0.0</td>\n      <td>0.0</td>\n      <td>1</td>\n    </tr>\n    <tr>\n      <th>1</th>\n      <td>2</td>\n      <td>120000.0</td>\n      <td>2</td>\n      <td>2</td>\n      <td>2</td>\n      <td>26</td>\n      <td>-1</td>\n      <td>2</td>\n      <td>0</td>\n      <td>0</td>\n      <td>...</td>\n      <td>3272.0</td>\n      <td>3455.0</td>\n      <td>3261.0</td>\n      <td>0.0</td>\n      <td>1000.0</td>\n      <td>1000.0</td>\n      <td>1000.0</td>\n      <td>0.0</td>\n      <td>2000.0</td>\n      <td>1</td>\n    </tr>\n    <tr>\n      <th>2</th>\n      <td>3</td>\n      <td>90000.0</td>\n      <td>2</td>\n      <td>2</td>\n      <td>2</td>\n      <td>34</td>\n      <td>0</td>\n      <td>0</td>\n      <td>0</td>\n      <td>0</td>\n      <td>...</td>\n      <td>14331.0</td>\n      <td>14948.0</td>\n      <td>15549.0</td>\n      <td>1518.0</td>\n      <td>1500.0</td>\n      <td>1000.0</td>\n      <td>1000.0</td>\n      <td>1000.0</td>\n      <td>5000.0</td>\n      <td>0</td>\n    </tr>\n    <tr>\n      <th>3</th>\n      <td>4</td>\n      <td>50000.0</td>\n      <td>2</td>\n      <td>2</td>\n      <td>1</td>\n      <td>37</td>\n      <td>0</td>\n      <td>0</td>\n      <td>0</td>\n      <td>0</td>\n      <td>...</td>\n      <td>28314.0</td>\n      <td>28959.0</td>\n      <td>29547.0</td>\n      <td>2000.0</td>\n      <td>2019.0</td>\n      <td>1200.0</td>\n      <td>1100.0</td>\n      <td>1069.0</td>\n      <td>1000.0</td>\n      <td>0</td>\n    </tr>\n    <tr>\n      <th>4</th>\n      <td>5</td>\n      <td>50000.0</td>\n      <td>1</td>\n      <td>2</td>\n      <td>1</td>\n      <td>57</td>\n      <td>-1</td>\n      <td>0</td>\n      <td>-1</td>\n      <td>0</td>\n      <td>...</td>\n      <td>20940.0</td>\n      <td>19146.0</td>\n      <td>19131.0</td>\n      <td>2000.0</td>\n      <td>36681.0</td>\n      <td>10000.0</td>\n      <td>9000.0</td>\n      <td>689.0</td>\n      <td>679.0</td>\n      <td>0</td>\n    </tr>\n    <tr>\n      <th>5</th>\n      <td>6</td>\n      <td>50000.0</td>\n      <td>1</td>\n      <td>1</td>\n      <td>2</td>\n      <td>37</td>\n      <td>0</td>\n      <td>0</td>\n      <td>0</td>\n      <td>0</td>\n      <td>...</td>\n      <td>19394.0</td>\n      <td>19619.0</td>\n      <td>20024.0</td>\n      <td>2500.0</td>\n      <td>1815.0</td>\n      <td>657.0</td>\n      <td>1000.0</td>\n      <td>1000.0</td>\n      <td>800.0</td>\n      <td>0</td>\n    </tr>\n    <tr>\n      <th>6</th>\n      <td>7</td>\n      <td>500000.0</td>\n      <td>1</td>\n      <td>1</td>\n      <td>2</td>\n      <td>29</td>\n      <td>0</td>\n      <td>0</td>\n      <td>0</td>\n      <td>0</td>\n      <td>...</td>\n      <td>542653.0</td>\n      <td>483003.0</td>\n      <td>473944.0</td>\n      <td>55000.0</td>\n      <td>40000.0</td>\n      <td>38000.0</td>\n      <td>20239.0</td>\n      <td>13750.0</td>\n      <td>13770.0</td>\n      <td>0</td>\n    </tr>\n    <tr>\n      <th>7</th>\n      <td>8</td>\n      <td>100000.0</td>\n      <td>2</td>\n      <td>2</td>\n      <td>2</td>\n      <td>23</td>\n      <td>0</td>\n      <td>-1</td>\n      <td>-1</td>\n      <td>0</td>\n      <td>...</td>\n      <td>221.0</td>\n      <td>-159.0</td>\n      <td>567.0</td>\n      <td>380.0</td>\n      <td>601.0</td>\n      <td>0.0</td>\n      <td>581.0</td>\n      <td>1687.0</td>\n      <td>1542.0</td>\n      <td>0</td>\n    </tr>\n    <tr>\n      <th>8</th>\n      <td>9</td>\n      <td>140000.0</td>\n      <td>2</td>\n      <td>3</td>\n      <td>1</td>\n      <td>28</td>\n      <td>0</td>\n      <td>0</td>\n      <td>2</td>\n      <td>0</td>\n      <td>...</td>\n      <td>12211.0</td>\n      <td>11793.0</td>\n      <td>3719.0</td>\n      <td>3329.0</td>\n      <td>0.0</td>\n      <td>432.0</td>\n      <td>1000.0</td>\n      <td>1000.0</td>\n      <td>1000.0</td>\n      <td>0</td>\n    </tr>\n    <tr>\n      <th>9</th>\n      <td>10</td>\n      <td>20000.0</td>\n      <td>1</td>\n      <td>3</td>\n      <td>2</td>\n      <td>35</td>\n      <td>-2</td>\n      <td>-2</td>\n      <td>-2</td>\n      <td>-2</td>\n      <td>...</td>\n      <td>0.0</td>\n      <td>13007.0</td>\n      <td>13912.0</td>\n      <td>0.0</td>\n      <td>0.0</td>\n      <td>0.0</td>\n      <td>13007.0</td>\n      <td>1122.0</td>\n      <td>0.0</td>\n      <td>0</td>\n    </tr>\n  </tbody>\n</table>\n<p>10 rows × 25 columns</p>\n</div>"
     },
     "execution_count": 2,
     "metadata": {},
     "output_type": "execute_result"
    }
   ],
   "source": [
    "d = pd.read_csv(\"C:\\\\Users\\\\HOME\\\\PycharmProjects\\\\case_studies_da\\\\4. UCI_Credit_Card\\\\UCI_Credit_Card.csv\")\n",
    "d.head(10)"
   ],
   "metadata": {
    "collapsed": false
   }
  },
  {
   "cell_type": "code",
   "execution_count": null,
   "outputs": [],
   "source": [],
   "metadata": {
    "collapsed": false
   }
  }
 ],
 "metadata": {
  "kernelspec": {
   "display_name": "Python 3",
   "language": "python",
   "name": "python3"
  },
  "language_info": {
   "codemirror_mode": {
    "name": "ipython",
    "version": 2
   },
   "file_extension": ".py",
   "mimetype": "text/x-python",
   "name": "python",
   "nbconvert_exporter": "python",
   "pygments_lexer": "ipython2",
   "version": "2.7.6"
  }
 },
 "nbformat": 4,
 "nbformat_minor": 0
}
